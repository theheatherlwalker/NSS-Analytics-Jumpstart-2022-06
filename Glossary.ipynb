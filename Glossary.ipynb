{
 "cells": [
  {
   "cell_type": "markdown",
   "id": "4b373867",
   "metadata": {},
   "source": [
    "## Contents\n",
    "* [attribute](#attribute)\n",
    "* [Boolean](#Boolean)\n",
    "* [csv](#csv)\n",
    "* [DataFrame](#DataFrame)  \n",
    "* [data type](#data_type)\n",
    "* [dictionary](#dictionary)\n",
    "* [docstring](#docstring)\n",
    "* [float](#float)\n",
    "* [function](#function)\n",
    "* [int](#int)\n",
    "* [library](#library)\n",
    "* [list](#list)\n",
    "* [method](#method)\n",
    "* [method chaining](#method_chaining)\n",
    "* [Series](#Series)\n",
    "* [SQL](#SQL)   \n",
    "* [string](#string)\n",
    "* [tuple](#tuple) \n",
    "* [variable](#variable)"
   ]
  },
  {
   "cell_type": "markdown",
   "id": "853f2665",
   "metadata": {},
   "source": [
    "### attribute <a id='attribute'></a>\n",
    "A characteristic of a specific object. Example: The `shape` attribute of a pandas DataFrame contains the number of rows and number of columns. Attributes are accessed using a period but **do not** have parentheses. Example: `df.shape`."
   ]
  },
  {
   "cell_type": "markdown",
   "id": "866d684c",
   "metadata": {},
   "source": [
    "### Boolean <a id='Boolean'></a>\n",
    "A data type containing **True** and **False**. Typically seen as the result of a comparison operator.\n",
    "\n",
    "Examples:"
   ]
  },
  {
   "cell_type": "code",
   "execution_count": 8,
   "id": "b63d0c75",
   "metadata": {},
   "outputs": [
    {
     "data": {
      "text/plain": [
       "True"
      ]
     },
     "execution_count": 8,
     "metadata": {},
     "output_type": "execute_result"
    }
   ],
   "source": [
    "3 > 1"
   ]
  },
  {
   "cell_type": "code",
   "execution_count": 14,
   "id": "f4fae305",
   "metadata": {},
   "outputs": [
    {
     "data": {
      "text/plain": [
       "bool"
      ]
     },
     "execution_count": 14,
     "metadata": {},
     "output_type": "execute_result"
    }
   ],
   "source": [
    "x = 4 < 1\n",
    "type(x)"
   ]
  },
  {
   "cell_type": "markdown",
   "id": "67a0ad51",
   "metadata": {},
   "source": [
    "### csv <a id='csv'></a>\n",
    "Short for **comma separated values**, this is a common text format for sharing data. Files in the csv format can be read into a _pandas_ dataframe using the `read_csv` function.\n",
    "\n",
    "Example: `df = pd.read_csv('my_file.csv')`"
   ]
  },
  {
   "cell_type": "markdown",
   "id": "ec670fde",
   "metadata": {},
   "source": [
    "### DataFrame <a id='DataFrame'></a>\n",
    "An element of the `pandas` library which hold tabular data. A DataFrame has rows (observations) and columns (variables)."
   ]
  },
  {
   "cell_type": "markdown",
   "id": "a816a40b",
   "metadata": {},
   "source": [
    "### data type <a id='data_type'></a>\n",
    "The format that data stored in a variable takes; Some example are [int](#int), [float](#float), [string](#string), and [Boolean](#Boolean). The `type` function can be used to determine the data type of an object or variable.\n",
    "\n",
    "Example:"
   ]
  },
  {
   "cell_type": "code",
   "execution_count": 5,
   "id": "d1df01cc",
   "metadata": {},
   "outputs": [
    {
     "data": {
      "text/plain": [
       "int"
      ]
     },
     "execution_count": 5,
     "metadata": {},
     "output_type": "execute_result"
    }
   ],
   "source": [
    "x = 5\n",
    "type(x)"
   ]
  },
  {
   "cell_type": "code",
   "execution_count": 6,
   "id": "147e9113",
   "metadata": {},
   "outputs": [
    {
     "data": {
      "text/plain": [
       "str"
      ]
     },
     "execution_count": 6,
     "metadata": {},
     "output_type": "execute_result"
    }
   ],
   "source": [
    "x = 'hello'\n",
    "type(x)"
   ]
  },
  {
   "cell_type": "code",
   "execution_count": 7,
   "id": "05ed52c3",
   "metadata": {},
   "outputs": [
    {
     "data": {
      "text/plain": [
       "list"
      ]
     },
     "execution_count": 7,
     "metadata": {},
     "output_type": "execute_result"
    }
   ],
   "source": [
    "x = [1,2,3]\n",
    "type(x)"
   ]
  },
  {
   "cell_type": "markdown",
   "id": "3d029c94",
   "metadata": {},
   "source": [
    "### dictionary <a id='dictionary'></a>\n",
    "A Python data type containing key-value pairs. Dictionaries are surrounded by curly braces `{ }`. The elements of a dictionary are key-value pairs where the keys and values are separed by colons, like `key: value`.\n",
    "\n",
    "Example:"
   ]
  },
  {
   "cell_type": "code",
   "execution_count": 22,
   "id": "21f82645",
   "metadata": {},
   "outputs": [],
   "source": [
    "dog = {'name': 'Ralph', 'breed': 'golden retriever', 'age': 7}"
   ]
  },
  {
   "cell_type": "markdown",
   "id": "66d2c7c6",
   "metadata": {},
   "source": [
    "Elements of a dictionary can be accessed using square brackets and specifying the key of the desired element."
   ]
  },
  {
   "cell_type": "code",
   "execution_count": 23,
   "id": "db59c545",
   "metadata": {},
   "outputs": [
    {
     "data": {
      "text/plain": [
       "'golden retriever'"
      ]
     },
     "execution_count": 23,
     "metadata": {},
     "output_type": "execute_result"
    }
   ],
   "source": [
    "dog['breed']"
   ]
  },
  {
   "cell_type": "markdown",
   "id": "e5f1d77c",
   "metadata": {},
   "source": [
    "### docstring <a id='docstring'></a>\n",
    "Text specified in source code that documents what a function or module does."
   ]
  },
  {
   "cell_type": "markdown",
   "id": "9aa1f162",
   "metadata": {},
   "source": [
    "### float <a id='float'></a>\n",
    "The floating decimal data type in Python. Examples are 3.28 and -45.3"
   ]
  },
  {
   "cell_type": "markdown",
   "id": "4d15eefb",
   "metadata": {},
   "source": [
    "### function <a id='function'></a>\n",
    "Reusable code that takes zero, one, or more inputs, does something with them, and returns an output. Functions can be part of a library (for example the `read_csv` function from `pandas`) or can be user-defined. **Note:** You must use parentheses when calling a function."
   ]
  },
  {
   "cell_type": "markdown",
   "id": "f9ed94d8",
   "metadata": {},
   "source": [
    "### int <a id='int'></a>\n",
    "The integer data type in Python. Integers are numbers that have no decimal part. For example, 12, 0, and -76 are all integers."
   ]
  },
  {
   "cell_type": "markdown",
   "id": "15034719",
   "metadata": {},
   "source": [
    "### library <a id='library'></a>\n",
    "A Python library is a collection of related modules. It contains bundles of code that can be used repeatedly in different programs. For example, the `pandas` library contains objects and functions useful for doing data analysis tasks in Python.\n",
    "\n",
    "Libraries (or components of libraries) can be imported into a Jupyter notebook using the `import` statement. Example: `import pandas`"
   ]
  },
  {
   "cell_type": "markdown",
   "id": "488001f4",
   "metadata": {},
   "source": [
    "### list <a id='list'></a>\n",
    "A Python data type which store multiple items in an ordered collection. List can hold duplicates (and even multiple data types). Lists are created using square brackets `[ ]`.\n",
    "\n",
    "Example:"
   ]
  },
  {
   "cell_type": "code",
   "execution_count": 19,
   "id": "b1f032b0",
   "metadata": {},
   "outputs": [],
   "source": [
    "colors = ['red', 'yellow', 'blue', 'green', 'red', 'green']"
   ]
  },
  {
   "cell_type": "markdown",
   "id": "87d4d6d1",
   "metadata": {},
   "source": [
    "Items in a list can be accessed by index. Recall that Python starts counting at 0."
   ]
  },
  {
   "cell_type": "code",
   "execution_count": 20,
   "id": "474da0e2",
   "metadata": {},
   "outputs": [
    {
     "data": {
      "text/plain": [
       "'blue'"
      ]
     },
     "execution_count": 20,
     "metadata": {},
     "output_type": "execute_result"
    }
   ],
   "source": [
    "colors[2]"
   ]
  },
  {
   "cell_type": "markdown",
   "id": "eb2ff974",
   "metadata": {},
   "source": [
    "You can also select multiple items from a list but indicating the start and end indices. Note that the end index is not included."
   ]
  },
  {
   "cell_type": "code",
   "execution_count": 21,
   "id": "0af59f65",
   "metadata": {},
   "outputs": [
    {
     "data": {
      "text/plain": [
       "['yellow', 'blue']"
      ]
     },
     "execution_count": 21,
     "metadata": {},
     "output_type": "execute_result"
    }
   ],
   "source": [
    "colors[1:3]"
   ]
  },
  {
   "cell_type": "markdown",
   "id": "a7522e22",
   "metadata": {},
   "source": [
    "### method <a id='method'></a>\n",
    "A [function](#function) which is built into an object. For example, the `head` function is a `method` of DataFrame objects. \n",
    "\n",
    "Methods are invoked by giving the name of the variable followed by a period and then the method name. Example: `df.head()`."
   ]
  },
  {
   "cell_type": "markdown",
   "id": "e5bfa6af",
   "metadata": {},
   "source": [
    "### method chaining<a id='method_chaining'></a>\n",
    "Applying multiple methods in sequence without saving intermediate steps. The functions are executed left to right and the output of one method is directly fed into the next one.\n",
    "\n",
    "Example: `df.value_counts().reset_index()`"
   ]
  },
  {
   "cell_type": "markdown",
   "id": "ff14d09b",
   "metadata": {},
   "source": [
    "### Series <a id='Series'></a>\n",
    "A `pandas` data type which cointains a one dimensional array of data. A Series contains values for a single variable. A column or row in a dataframe is a Series."
   ]
  },
  {
   "cell_type": "markdown",
   "id": "41a63c2b",
   "metadata": {},
   "source": [
    "### SQL <a id='SQL'></a>\n",
    "Structured Query Language; used for creating, retrieving, updating, or deleting data from a database (look up CRUD acronym). Data analysts will only retrieve data. "
   ]
  },
  {
   "cell_type": "markdown",
   "id": "a4cfbace",
   "metadata": {},
   "source": [
    "### string <a id='string'></a>\n",
    "The string data type in Python. Contains text. Examples: \"hello\", \"Nashville\", \"175\"\n",
    "\n",
    "Strings are surrounded by quotes. These quotes can be either single quotes or double quotes, as long as they match."
   ]
  },
  {
   "cell_type": "markdown",
   "id": "6640b7ae",
   "metadata": {},
   "source": [
    "### tuple <a id='tuple'></a>\n",
    "A python data type similar to a list; a 1 dimensional array of values. Can contain different data types. Differs from a list in that tuples cannot be modified once they are created (they are immutable)"
   ]
  },
  {
   "cell_type": "code",
   "execution_count": 16,
   "id": "9657555a",
   "metadata": {},
   "outputs": [
    {
     "data": {
      "text/plain": [
       "tuple"
      ]
     },
     "execution_count": 16,
     "metadata": {},
     "output_type": "execute_result"
    }
   ],
   "source": [
    "my_tuple = ('foo', 'bar')\n",
    "type(my_tuple)"
   ]
  },
  {
   "cell_type": "markdown",
   "id": "2f33d1a9",
   "metadata": {},
   "source": [
    "Elements of tuples can be extracted using square brackets and specifying the index of the element you want to extract."
   ]
  },
  {
   "cell_type": "code",
   "execution_count": 17,
   "id": "83792106",
   "metadata": {},
   "outputs": [
    {
     "data": {
      "text/plain": [
       "'foo'"
      ]
     },
     "execution_count": 17,
     "metadata": {},
     "output_type": "execute_result"
    }
   ],
   "source": [
    "my_tuple[0]"
   ]
  },
  {
   "cell_type": "code",
   "execution_count": 18,
   "id": "5527df2e",
   "metadata": {},
   "outputs": [
    {
     "data": {
      "text/plain": [
       "'bar'"
      ]
     },
     "execution_count": 18,
     "metadata": {},
     "output_type": "execute_result"
    }
   ],
   "source": [
    "my_tuple[1]"
   ]
  },
  {
   "cell_type": "markdown",
   "id": "3a126a72",
   "metadata": {},
   "source": [
    "### variable <a id='variable'></a>\n",
    "A container for storing data values; A variable in created in Python by using an equals sign (called the _assignment operator_). Variables are useful, because they allow you to save a value and reference it later. Variable assignments carry across cells in Jupyter notebooks.\n",
    "\n",
    "Example: We can assign the string (text) 'hello world' to the variable `x` and then reference it later."
   ]
  },
  {
   "cell_type": "code",
   "execution_count": 3,
   "id": "8ed4e87a",
   "metadata": {},
   "outputs": [],
   "source": [
    "x = 'hello world'"
   ]
  },
  {
   "cell_type": "code",
   "execution_count": 4,
   "id": "3eb7a98a",
   "metadata": {},
   "outputs": [
    {
     "name": "stdout",
     "output_type": "stream",
     "text": [
      "hello world\n"
     ]
    }
   ],
   "source": [
    "print(x)"
   ]
  }
 ],
 "metadata": {
  "kernelspec": {
   "display_name": "Python 3 (ipykernel)",
   "language": "python",
   "name": "python3"
  },
  "language_info": {
   "codemirror_mode": {
    "name": "ipython",
    "version": 3
   },
   "file_extension": ".py",
   "mimetype": "text/x-python",
   "name": "python",
   "nbconvert_exporter": "python",
   "pygments_lexer": "ipython3",
   "version": "3.9.12"
  }
 },
 "nbformat": 4,
 "nbformat_minor": 5
}
