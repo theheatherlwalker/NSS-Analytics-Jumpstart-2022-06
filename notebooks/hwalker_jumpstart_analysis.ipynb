{
 "cells": [
  {
   "cell_type": "markdown",
   "id": "ac29a132",
   "metadata": {},
   "source": [
    "# 1. Import the packages\n",
    "Import the packages by running the code below in a Jupyter notebook cell. If you decide to import additional packages over the next few weeks, be sure to add them to this cell. Also add the command that starts with % to the bottom of this cell. This is called a magic command and displays your plots in the notebook without having to also call a separate command.<br><br>\n",
    "<mark>import pandas as pd<br>\n",
    "import matplotlib.pyplot as plt<br>\n",
    "import seaborn as sns<br>\n",
    "import sqlite3 as sql<br>\n",
    "%matplotlib inline<br></mark>"
   ]
  },
  {
   "cell_type": "markdown",
   "id": "fec976bd",
   "metadata": {},
   "source": [
    "`pandas` is Python Library<br>\n",
    "`matplotlib.pyplot` is Matplotlib -- a comprehensive library for creating static, animated, and interactive visualizations in Python.<br>\n",
    "`seaborn` is Seaborn is a Python data visualization library based on matplotlib.<br>\n",
    "`sqlite3` is SQLite is a database engine written in the C language.<br>"
   ]
  },
  {
   "cell_type": "code",
   "execution_count": 1,
   "id": "4baf9ed7",
   "metadata": {},
   "outputs": [],
   "source": [
    "import pandas as pd\n",
    "import matplotlib.pyplot as plt\n",
    "import seaborn as sns\n",
    "import sqlite3 as sql\n",
    "%matplotlib inline"
   ]
  },
  {
   "cell_type": "markdown",
   "id": "a6796a18",
   "metadata": {},
   "source": [
    "***\n",
    "# 2. Importing the data to a dataframe\n",
    "Read in the 2018 police calls data __police_calls_2018.csv__ to a dataframe called __police_calls__.\n"
   ]
  },
  {
   "cell_type": "code",
   "execution_count": 2,
   "id": "86ff6e74",
   "metadata": {},
   "outputs": [],
   "source": [
    "police_calls = pd.read_csv('../data/police_calls_2018.csv')"
   ]
  },
  {
   "cell_type": "markdown",
   "id": "01fb7873",
   "metadata": {},
   "source": [
    "# 2a. Look at the first 5 rows.\n",
    "> Use `.head()` to show first rows."
   ]
  },
  {
   "cell_type": "code",
   "execution_count": 3,
   "id": "e14b6e35",
   "metadata": {},
   "outputs": [
    {
     "data": {
      "text/html": [
       "<div>\n",
       "<style scoped>\n",
       "    .dataframe tbody tr th:only-of-type {\n",
       "        vertical-align: middle;\n",
       "    }\n",
       "\n",
       "    .dataframe tbody tr th {\n",
       "        vertical-align: top;\n",
       "    }\n",
       "\n",
       "    .dataframe thead th {\n",
       "        text-align: right;\n",
       "    }\n",
       "</style>\n",
       "<table border=\"1\" class=\"dataframe\">\n",
       "  <thead>\n",
       "    <tr style=\"text-align: right;\">\n",
       "      <th></th>\n",
       "      <th>Event Number</th>\n",
       "      <th>Call Received</th>\n",
       "      <th>Complaint Number</th>\n",
       "      <th>Shift</th>\n",
       "      <th>Tencode</th>\n",
       "      <th>Tencode Description</th>\n",
       "      <th>Disposition Code</th>\n",
       "      <th>Disposition Description</th>\n",
       "      <th>Block</th>\n",
       "      <th>Street Name</th>\n",
       "      <th>Unit Dispatched</th>\n",
       "      <th>Sector</th>\n",
       "      <th>Zone</th>\n",
       "      <th>Latitude</th>\n",
       "      <th>Longitude</th>\n",
       "      <th>geometry</th>\n",
       "      <th>zipcode</th>\n",
       "      <th>PO</th>\n",
       "    </tr>\n",
       "  </thead>\n",
       "  <tbody>\n",
       "    <tr>\n",
       "      <th>0</th>\n",
       "      <td>PD201800174484</td>\n",
       "      <td>02/16/2018 07:09:00 PM</td>\n",
       "      <td>20180155542</td>\n",
       "      <td>B</td>\n",
       "      <td>93</td>\n",
       "      <td>Traffic Violation</td>\n",
       "      <td>3</td>\n",
       "      <td>CITATION - TRAFFIC</td>\n",
       "      <td>600.0</td>\n",
       "      <td>ALBANY DR</td>\n",
       "      <td>521B</td>\n",
       "      <td>H</td>\n",
       "      <td>23</td>\n",
       "      <td>36.210</td>\n",
       "      <td>-86.600</td>\n",
       "      <td>POINT (-86.59999999999999 36.21)</td>\n",
       "      <td>37076</td>\n",
       "      <td>HERMITAGE</td>\n",
       "    </tr>\n",
       "    <tr>\n",
       "      <th>1</th>\n",
       "      <td>PD201800174650</td>\n",
       "      <td>02/16/2018 08:02:00 PM</td>\n",
       "      <td>20180155684</td>\n",
       "      <td>B</td>\n",
       "      <td>93</td>\n",
       "      <td>Traffic Violation</td>\n",
       "      <td>9</td>\n",
       "      <td>SUBJECT WARNED</td>\n",
       "      <td>5800.0</td>\n",
       "      <td>OLD HICKORY BLVD</td>\n",
       "      <td>5F34</td>\n",
       "      <td>H</td>\n",
       "      <td>21</td>\n",
       "      <td>36.169</td>\n",
       "      <td>-86.601</td>\n",
       "      <td>POINT (-86.601 36.169)</td>\n",
       "      <td>37076</td>\n",
       "      <td>HERMITAGE</td>\n",
       "    </tr>\n",
       "    <tr>\n",
       "      <th>2</th>\n",
       "      <td>PD201800175038</td>\n",
       "      <td>02/16/2018 10:16:00 PM</td>\n",
       "      <td>20180156001</td>\n",
       "      <td>B</td>\n",
       "      <td>3</td>\n",
       "      <td>Administrative/Special Assignment</td>\n",
       "      <td>6</td>\n",
       "      <td>ASSISTED OTHER UNIT</td>\n",
       "      <td>3700.0</td>\n",
       "      <td>JAMES KAY LN</td>\n",
       "      <td>521B</td>\n",
       "      <td>H</td>\n",
       "      <td>21</td>\n",
       "      <td>36.178</td>\n",
       "      <td>-86.616</td>\n",
       "      <td>POINT (-86.616 36.178)</td>\n",
       "      <td>37076</td>\n",
       "      <td>HERMITAGE</td>\n",
       "    </tr>\n",
       "    <tr>\n",
       "      <th>3</th>\n",
       "      <td>PD201800174217</td>\n",
       "      <td>02/16/2018 05:58:00 PM</td>\n",
       "      <td>20180155321</td>\n",
       "      <td>B</td>\n",
       "      <td>87</td>\n",
       "      <td>Safety Hazard</td>\n",
       "      <td>3</td>\n",
       "      <td>CITATION - TRAFFIC</td>\n",
       "      <td>0.0</td>\n",
       "      <td>MM 221 4 I40 E</td>\n",
       "      <td>5122</td>\n",
       "      <td>H</td>\n",
       "      <td>23</td>\n",
       "      <td>36.170</td>\n",
       "      <td>-86.591</td>\n",
       "      <td>POINT (-86.59100000000001 36.17)</td>\n",
       "      <td>37076</td>\n",
       "      <td>HERMITAGE</td>\n",
       "    </tr>\n",
       "    <tr>\n",
       "      <th>4</th>\n",
       "      <td>PD201800173907</td>\n",
       "      <td>02/16/2018 04:19:00 PM</td>\n",
       "      <td>20180155047</td>\n",
       "      <td>B</td>\n",
       "      <td>93</td>\n",
       "      <td>Traffic Violation</td>\n",
       "      <td>9</td>\n",
       "      <td>SUBJECT WARNED</td>\n",
       "      <td>1300.0</td>\n",
       "      <td>TULIP GROVE RD</td>\n",
       "      <td>521B</td>\n",
       "      <td>H</td>\n",
       "      <td>23</td>\n",
       "      <td>36.175</td>\n",
       "      <td>-86.596</td>\n",
       "      <td>POINT (-86.596 36.175)</td>\n",
       "      <td>37076</td>\n",
       "      <td>HERMITAGE</td>\n",
       "    </tr>\n",
       "  </tbody>\n",
       "</table>\n",
       "</div>"
      ],
      "text/plain": [
       "     Event Number           Call Received  Complaint Number Shift  Tencode  \\\n",
       "0  PD201800174484  02/16/2018 07:09:00 PM       20180155542     B       93   \n",
       "1  PD201800174650  02/16/2018 08:02:00 PM       20180155684     B       93   \n",
       "2  PD201800175038  02/16/2018 10:16:00 PM       20180156001     B        3   \n",
       "3  PD201800174217  02/16/2018 05:58:00 PM       20180155321     B       87   \n",
       "4  PD201800173907  02/16/2018 04:19:00 PM       20180155047     B       93   \n",
       "\n",
       "                 Tencode Description  Disposition Code  \\\n",
       "0                  Traffic Violation                 3   \n",
       "1                  Traffic Violation                 9   \n",
       "2  Administrative/Special Assignment                 6   \n",
       "3                      Safety Hazard                 3   \n",
       "4                  Traffic Violation                 9   \n",
       "\n",
       "  Disposition Description   Block        Street Name Unit Dispatched Sector  \\\n",
       "0      CITATION - TRAFFIC   600.0         ALBANY DR             521B      H   \n",
       "1          SUBJECT WARNED  5800.0  OLD HICKORY BLVD             5F34      H   \n",
       "2     ASSISTED OTHER UNIT  3700.0      JAMES KAY LN             521B      H   \n",
       "3      CITATION - TRAFFIC     0.0     MM 221 4 I40 E            5122      H   \n",
       "4          SUBJECT WARNED  1300.0    TULIP GROVE RD             521B      H   \n",
       "\n",
       "  Zone  Latitude  Longitude                          geometry  zipcode  \\\n",
       "0   23    36.210    -86.600  POINT (-86.59999999999999 36.21)    37076   \n",
       "1   21    36.169    -86.601            POINT (-86.601 36.169)    37076   \n",
       "2   21    36.178    -86.616            POINT (-86.616 36.178)    37076   \n",
       "3   23    36.170    -86.591  POINT (-86.59100000000001 36.17)    37076   \n",
       "4   23    36.175    -86.596            POINT (-86.596 36.175)    37076   \n",
       "\n",
       "          PO  \n",
       "0  HERMITAGE  \n",
       "1  HERMITAGE  \n",
       "2  HERMITAGE  \n",
       "3  HERMITAGE  \n",
       "4  HERMITAGE  "
      ]
     },
     "execution_count": 3,
     "metadata": {},
     "output_type": "execute_result"
    }
   ],
   "source": [
    "police_calls.head(5)"
   ]
  },
  {
   "cell_type": "markdown",
   "id": "3b5066ee",
   "metadata": {},
   "source": [
    "# 2b. Look at the last 3 rows.\n",
    "\n",
    "> Use `.tail()` to display the last rows."
   ]
  },
  {
   "cell_type": "code",
   "execution_count": 4,
   "id": "6724472f",
   "metadata": {},
   "outputs": [
    {
     "data": {
      "text/html": [
       "<div>\n",
       "<style scoped>\n",
       "    .dataframe tbody tr th:only-of-type {\n",
       "        vertical-align: middle;\n",
       "    }\n",
       "\n",
       "    .dataframe tbody tr th {\n",
       "        vertical-align: top;\n",
       "    }\n",
       "\n",
       "    .dataframe thead th {\n",
       "        text-align: right;\n",
       "    }\n",
       "</style>\n",
       "<table border=\"1\" class=\"dataframe\">\n",
       "  <thead>\n",
       "    <tr style=\"text-align: right;\">\n",
       "      <th></th>\n",
       "      <th>Event Number</th>\n",
       "      <th>Call Received</th>\n",
       "      <th>Complaint Number</th>\n",
       "      <th>Shift</th>\n",
       "      <th>Tencode</th>\n",
       "      <th>Tencode Description</th>\n",
       "      <th>Disposition Code</th>\n",
       "      <th>Disposition Description</th>\n",
       "      <th>Block</th>\n",
       "      <th>Street Name</th>\n",
       "      <th>Unit Dispatched</th>\n",
       "      <th>Sector</th>\n",
       "      <th>Zone</th>\n",
       "      <th>Latitude</th>\n",
       "      <th>Longitude</th>\n",
       "      <th>geometry</th>\n",
       "      <th>zipcode</th>\n",
       "      <th>PO</th>\n",
       "    </tr>\n",
       "  </thead>\n",
       "  <tbody>\n",
       "    <tr>\n",
       "      <th>718018</th>\n",
       "      <td>PD201800855208</td>\n",
       "      <td>08/29/2018 09:11:36 AM</td>\n",
       "      <td>20180740194</td>\n",
       "      <td>A</td>\n",
       "      <td>45</td>\n",
       "      <td>Vehicle Accident - Property Damage</td>\n",
       "      <td>1</td>\n",
       "      <td>M.P.D. REPORT COMPLED</td>\n",
       "      <td>6900.0</td>\n",
       "      <td>NOLENSVILLE PKE</td>\n",
       "      <td>3T73</td>\n",
       "      <td>S</td>\n",
       "      <td>31</td>\n",
       "      <td>35.994</td>\n",
       "      <td>-86.685</td>\n",
       "      <td>POINT (-86.685 35.994)</td>\n",
       "      <td>37027</td>\n",
       "      <td>BRENTWOOD</td>\n",
       "    </tr>\n",
       "    <tr>\n",
       "      <th>718019</th>\n",
       "      <td>PD201800783912</td>\n",
       "      <td>08/08/2018 10:15:20 AM</td>\n",
       "      <td>0</td>\n",
       "      <td>A</td>\n",
       "      <td>43</td>\n",
       "      <td>Want Officer for Investigation / Assistance</td>\n",
       "      <td>11</td>\n",
       "      <td>DISREGARD / SIGNAL 9</td>\n",
       "      <td>0.0</td>\n",
       "      <td>HIGHWAY 70&amp;CHEATHAM CO LINE</td>\n",
       "      <td>NaN</td>\n",
       "      <td>W</td>\n",
       "      <td>25</td>\n",
       "      <td>36.094</td>\n",
       "      <td>-87.038</td>\n",
       "      <td>POINT (-87.038 36.094)</td>\n",
       "      <td>37143</td>\n",
       "      <td>PEGRAM</td>\n",
       "    </tr>\n",
       "    <tr>\n",
       "      <th>718020</th>\n",
       "      <td>PD201800800491</td>\n",
       "      <td>08/13/2018 11:51:29 AM</td>\n",
       "      <td>20180693242</td>\n",
       "      <td>A</td>\n",
       "      <td>96</td>\n",
       "      <td>Business Check</td>\n",
       "      <td>4</td>\n",
       "      <td>ASSISTED CITIZEN</td>\n",
       "      <td>0.0</td>\n",
       "      <td>HIGHWAY 70&amp;CHEATHAM CO LINE</td>\n",
       "      <td>5252</td>\n",
       "      <td>W</td>\n",
       "      <td>23</td>\n",
       "      <td>36.094</td>\n",
       "      <td>-87.038</td>\n",
       "      <td>POINT (-87.038 36.094)</td>\n",
       "      <td>37143</td>\n",
       "      <td>PEGRAM</td>\n",
       "    </tr>\n",
       "  </tbody>\n",
       "</table>\n",
       "</div>"
      ],
      "text/plain": [
       "          Event Number           Call Received  Complaint Number Shift  \\\n",
       "718018  PD201800855208  08/29/2018 09:11:36 AM       20180740194     A   \n",
       "718019  PD201800783912  08/08/2018 10:15:20 AM                 0     A   \n",
       "718020  PD201800800491  08/13/2018 11:51:29 AM       20180693242     A   \n",
       "\n",
       "        Tencode                          Tencode Description  \\\n",
       "718018       45           Vehicle Accident - Property Damage   \n",
       "718019       43  Want Officer for Investigation / Assistance   \n",
       "718020       96                               Business Check   \n",
       "\n",
       "        Disposition Code Disposition Description   Block  \\\n",
       "718018                 1   M.P.D. REPORT COMPLED  6900.0   \n",
       "718019                11    DISREGARD / SIGNAL 9     0.0   \n",
       "718020                 4        ASSISTED CITIZEN     0.0   \n",
       "\n",
       "                        Street Name Unit Dispatched Sector Zone  Latitude  \\\n",
       "718018             NOLENSVILLE PKE             3T73      S   31    35.994   \n",
       "718019  HIGHWAY 70&CHEATHAM CO LINE             NaN      W   25    36.094   \n",
       "718020  HIGHWAY 70&CHEATHAM CO LINE            5252      W   23    36.094   \n",
       "\n",
       "        Longitude                geometry  zipcode         PO  \n",
       "718018    -86.685  POINT (-86.685 35.994)    37027  BRENTWOOD  \n",
       "718019    -87.038  POINT (-87.038 36.094)    37143     PEGRAM  \n",
       "718020    -87.038  POINT (-87.038 36.094)    37143     PEGRAM  "
      ]
     },
     "execution_count": 4,
     "metadata": {},
     "output_type": "execute_result"
    }
   ],
   "source": [
    "police_calls.tail(3)"
   ]
  },
  {
   "cell_type": "markdown",
   "id": "0cf74462",
   "metadata": {},
   "source": [
    "# 2c. How many rows and columns does *police_calls* contain?\n",
    "> Use `.shape` to find # of rows and columns."
   ]
  },
  {
   "cell_type": "code",
   "execution_count": 5,
   "id": "b9560acd",
   "metadata": {},
   "outputs": [
    {
     "data": {
      "text/plain": [
       "(718021, 18)"
      ]
     },
     "execution_count": 5,
     "metadata": {},
     "output_type": "execute_result"
    }
   ],
   "source": [
    "police_calls.shape"
   ]
  },
  {
   "cell_type": "markdown",
   "id": "204b3cf7",
   "metadata": {},
   "source": [
    "***\n",
    "# 3. Keep just these columns:\n",
    "<mark>a. 'Call Received'<br>\n",
    "b. 'Shift'<br>\n",
    "c. 'Tencode'<br>\n",
    "d. 'Tencode Description'<br>\n",
    "e. 'Disposition Code'<br>\n",
    "f. 'Disposition Description'<br>\n",
    "g. 'Unit Dispatched'<br>\n",
    "h. 'Sector'<br>\n",
    "i. 'Zone'<br>\n",
    "j. 'Latitude'<br>\n",
    "k. 'Longitude'<br>\n",
    "l. 'zipcode'<br>\n",
    "m. 'PO'<br></mark>"
   ]
  },
  {
   "cell_type": "markdown",
   "id": "6baa20dc",
   "metadata": {},
   "source": [
    "### (optional) List the columns."
   ]
  },
  {
   "cell_type": "code",
   "execution_count": 6,
   "id": "b03b795d",
   "metadata": {},
   "outputs": [
    {
     "data": {
      "text/plain": [
       "Index(['Event Number', 'Call Received', 'Complaint Number', 'Shift', 'Tencode',\n",
       "       'Tencode Description', 'Disposition Code', 'Disposition Description',\n",
       "       'Block', 'Street Name', 'Unit Dispatched', 'Sector', 'Zone', 'Latitude',\n",
       "       'Longitude', 'geometry', 'zipcode', 'PO'],\n",
       "      dtype='object')"
      ]
     },
     "execution_count": 6,
     "metadata": {},
     "output_type": "execute_result"
    }
   ],
   "source": [
    "police_calls.columns"
   ]
  },
  {
   "cell_type": "markdown",
   "id": "21607ddc",
   "metadata": {},
   "source": [
    "### Slice the columns.\n",
    "> Passing a list of columns to slice from the DataFrame (double brackets) returns a DataFrame with just those columns.<br>\n",
    "> Use the `.head()` to check."
   ]
  },
  {
   "cell_type": "code",
   "execution_count": 7,
   "id": "dfc1323f",
   "metadata": {},
   "outputs": [
    {
     "data": {
      "text/html": [
       "<div>\n",
       "<style scoped>\n",
       "    .dataframe tbody tr th:only-of-type {\n",
       "        vertical-align: middle;\n",
       "    }\n",
       "\n",
       "    .dataframe tbody tr th {\n",
       "        vertical-align: top;\n",
       "    }\n",
       "\n",
       "    .dataframe thead th {\n",
       "        text-align: right;\n",
       "    }\n",
       "</style>\n",
       "<table border=\"1\" class=\"dataframe\">\n",
       "  <thead>\n",
       "    <tr style=\"text-align: right;\">\n",
       "      <th></th>\n",
       "      <th>Call Received</th>\n",
       "      <th>Shift</th>\n",
       "      <th>Tencode</th>\n",
       "      <th>Tencode Description</th>\n",
       "      <th>Disposition Code</th>\n",
       "      <th>Disposition Description</th>\n",
       "      <th>Unit Dispatched</th>\n",
       "      <th>Sector</th>\n",
       "      <th>Zone</th>\n",
       "      <th>Latitude</th>\n",
       "      <th>Longitude</th>\n",
       "      <th>zipcode</th>\n",
       "      <th>PO</th>\n",
       "    </tr>\n",
       "  </thead>\n",
       "  <tbody>\n",
       "    <tr>\n",
       "      <th>0</th>\n",
       "      <td>02/16/2018 07:09:00 PM</td>\n",
       "      <td>B</td>\n",
       "      <td>93</td>\n",
       "      <td>Traffic Violation</td>\n",
       "      <td>3</td>\n",
       "      <td>CITATION - TRAFFIC</td>\n",
       "      <td>521B</td>\n",
       "      <td>H</td>\n",
       "      <td>23</td>\n",
       "      <td>36.210</td>\n",
       "      <td>-86.600</td>\n",
       "      <td>37076</td>\n",
       "      <td>HERMITAGE</td>\n",
       "    </tr>\n",
       "    <tr>\n",
       "      <th>1</th>\n",
       "      <td>02/16/2018 08:02:00 PM</td>\n",
       "      <td>B</td>\n",
       "      <td>93</td>\n",
       "      <td>Traffic Violation</td>\n",
       "      <td>9</td>\n",
       "      <td>SUBJECT WARNED</td>\n",
       "      <td>5F34</td>\n",
       "      <td>H</td>\n",
       "      <td>21</td>\n",
       "      <td>36.169</td>\n",
       "      <td>-86.601</td>\n",
       "      <td>37076</td>\n",
       "      <td>HERMITAGE</td>\n",
       "    </tr>\n",
       "  </tbody>\n",
       "</table>\n",
       "</div>"
      ],
      "text/plain": [
       "            Call Received Shift  Tencode Tencode Description  \\\n",
       "0  02/16/2018 07:09:00 PM     B       93   Traffic Violation   \n",
       "1  02/16/2018 08:02:00 PM     B       93   Traffic Violation   \n",
       "\n",
       "   Disposition Code Disposition Description Unit Dispatched Sector Zone  \\\n",
       "0                 3      CITATION - TRAFFIC            521B      H   23   \n",
       "1                 9          SUBJECT WARNED            5F34      H   21   \n",
       "\n",
       "   Latitude  Longitude  zipcode         PO  \n",
       "0    36.210    -86.600    37076  HERMITAGE  \n",
       "1    36.169    -86.601    37076  HERMITAGE  "
      ]
     },
     "execution_count": 7,
     "metadata": {},
     "output_type": "execute_result"
    }
   ],
   "source": [
    "police_calls = police_calls[['Call Received',\n",
    "                             'Shift',\n",
    "                             'Tencode',\n",
    "                             'Tencode Description',\n",
    "                             'Disposition Code',\n",
    "                             'Disposition Description',\n",
    "                             'Unit Dispatched',\n",
    "                             'Sector',\n",
    "                             'Zone',\n",
    "                             'Latitude',\n",
    "                             'Longitude',\n",
    "                             'zipcode',\n",
    "                             'PO']]\n",
    "police_calls.head(2)"
   ]
  },
  {
   "cell_type": "markdown",
   "id": "a6bd0f1f",
   "metadata": {},
   "source": [
    "***\n",
    "# 4. Rename the columns.\n",
    "> Then use the `.head()` to check."
   ]
  },
  {
   "cell_type": "code",
   "execution_count": 8,
   "id": "c4f536af",
   "metadata": {},
   "outputs": [
    {
     "data": {
      "text/html": [
       "<div>\n",
       "<style scoped>\n",
       "    .dataframe tbody tr th:only-of-type {\n",
       "        vertical-align: middle;\n",
       "    }\n",
       "\n",
       "    .dataframe tbody tr th {\n",
       "        vertical-align: top;\n",
       "    }\n",
       "\n",
       "    .dataframe thead th {\n",
       "        text-align: right;\n",
       "    }\n",
       "</style>\n",
       "<table border=\"1\" class=\"dataframe\">\n",
       "  <thead>\n",
       "    <tr style=\"text-align: right;\">\n",
       "      <th></th>\n",
       "      <th>call_time</th>\n",
       "      <th>shift</th>\n",
       "      <th>tencode</th>\n",
       "      <th>tencode_desc</th>\n",
       "      <th>disposition</th>\n",
       "      <th>disposition_desc</th>\n",
       "      <th>unit_dispatched</th>\n",
       "      <th>sector</th>\n",
       "      <th>zone</th>\n",
       "      <th>lat</th>\n",
       "      <th>lng</th>\n",
       "      <th>zipcode</th>\n",
       "      <th>po</th>\n",
       "    </tr>\n",
       "  </thead>\n",
       "  <tbody>\n",
       "    <tr>\n",
       "      <th>0</th>\n",
       "      <td>02/16/2018 07:09:00 PM</td>\n",
       "      <td>B</td>\n",
       "      <td>93</td>\n",
       "      <td>Traffic Violation</td>\n",
       "      <td>3</td>\n",
       "      <td>CITATION - TRAFFIC</td>\n",
       "      <td>521B</td>\n",
       "      <td>H</td>\n",
       "      <td>23</td>\n",
       "      <td>36.210</td>\n",
       "      <td>-86.600</td>\n",
       "      <td>37076</td>\n",
       "      <td>HERMITAGE</td>\n",
       "    </tr>\n",
       "    <tr>\n",
       "      <th>1</th>\n",
       "      <td>02/16/2018 08:02:00 PM</td>\n",
       "      <td>B</td>\n",
       "      <td>93</td>\n",
       "      <td>Traffic Violation</td>\n",
       "      <td>9</td>\n",
       "      <td>SUBJECT WARNED</td>\n",
       "      <td>5F34</td>\n",
       "      <td>H</td>\n",
       "      <td>21</td>\n",
       "      <td>36.169</td>\n",
       "      <td>-86.601</td>\n",
       "      <td>37076</td>\n",
       "      <td>HERMITAGE</td>\n",
       "    </tr>\n",
       "  </tbody>\n",
       "</table>\n",
       "</div>"
      ],
      "text/plain": [
       "                call_time shift  tencode       tencode_desc  disposition  \\\n",
       "0  02/16/2018 07:09:00 PM     B       93  Traffic Violation            3   \n",
       "1  02/16/2018 08:02:00 PM     B       93  Traffic Violation            9   \n",
       "\n",
       "     disposition_desc unit_dispatched sector zone     lat     lng  zipcode  \\\n",
       "0  CITATION - TRAFFIC            521B      H   23  36.210 -86.600    37076   \n",
       "1      SUBJECT WARNED            5F34      H   21  36.169 -86.601    37076   \n",
       "\n",
       "          po  \n",
       "0  HERMITAGE  \n",
       "1  HERMITAGE  "
      ]
     },
     "execution_count": 8,
     "metadata": {},
     "output_type": "execute_result"
    }
   ],
   "source": [
    "police_calls = police_calls.rename(columns = {\n",
    "    'Call Received' : 'call_time',\n",
    "    'Shift' : 'shift',\n",
    "    'Tencode' : 'tencode',\n",
    "    'Tencode Description' : 'tencode_desc',\n",
    "    'Disposition Code' : 'disposition',\n",
    "    'Disposition Description' : 'disposition_desc',\n",
    "    'Unit Dispatched' : 'unit_dispatched',\n",
    "    'Sector' : 'sector',\n",
    "    'Zone' : 'zone',\n",
    "    'Latitude' : 'lat',\n",
    "    'Longitude' : 'lng',\n",
    "    'zipcode' : 'zipcode',\n",
    "    'PO': 'po'\n",
    "})\n",
    "police_calls.head(2)"
   ]
  },
  {
   "cell_type": "markdown",
   "id": "1e1564d9",
   "metadata": {},
   "source": [
    "***\n",
    "# 5. What are the unique disposition descriptions?\n",
    "> Use `.unique()` to list all the unique values."
   ]
  },
  {
   "cell_type": "code",
   "execution_count": 9,
   "id": "15637cbe",
   "metadata": {},
   "outputs": [
    {
     "data": {
      "text/plain": [
       "array(['CITATION - TRAFFIC', 'SUBJECT WARNED', 'ASSISTED OTHER UNIT',\n",
       "       'GONE ON ARRIVAL', 'ASSISTED CITIZEN', 'COMMUNITY POLICING',\n",
       "       'LOCATION/BUILDING SECURE', 'DISREGARD / SIGNAL 9',\n",
       "       'M.P.D. REPORT COMPLED', 'ADVISED IN CIVIL CASE', 'FALSE CALL',\n",
       "       'NO RESPONSE', 'ARREST, CUSTODIAL OR CITATION',\n",
       "       'ASSISTANCE REFUSED', 'ADVISORY / NOTICE FORM GIVEN', nan],\n",
       "      dtype=object)"
      ]
     },
     "execution_count": 9,
     "metadata": {},
     "output_type": "execute_result"
    }
   ],
   "source": [
    "police_calls['disposition_desc'].unique()"
   ]
  },
  {
   "cell_type": "markdown",
   "id": "7af29e7e",
   "metadata": {},
   "source": [
    "***\n",
    "# 6. Remove all rows from *police_calls* where the disposition description is:\n",
    "- missing (nan)\n",
    "- or DISREGARD / SIGNAL 9\n",
    "- or NO RESPONSE. <br>\n",
    "Check to see that you have 624841 rows remaining."
   ]
  },
  {
   "cell_type": "markdown",
   "id": "2643bef1",
   "metadata": {},
   "source": [
    "> Using `.loc[ ]`, remove the nan (null) values -- <br>\n",
    "> Detect missing values with `isna()`. (https://pandas.pydata.org/docs/reference/api/pandas.DataFrame.html)"
   ]
  },
  {
   "cell_type": "code",
   "execution_count": 10,
   "id": "c3b89248",
   "metadata": {},
   "outputs": [],
   "source": [
    "police_calls = police_calls.loc[~police_calls.disposition_desc.isna()]"
   ]
  },
  {
   "cell_type": "markdown",
   "id": "839b90e9",
   "metadata": {},
   "source": [
    "> You can also check the number of null values by chaining the `isna( )` and `sum( )` methods together.<br>\n",
    "> The reason this works is that Python will treat True as 1 and False as 0 when doing arithmetic on Booleans."
   ]
  },
  {
   "cell_type": "code",
   "execution_count": 11,
   "id": "2738f531",
   "metadata": {},
   "outputs": [
    {
     "data": {
      "text/plain": [
       "0"
      ]
     },
     "execution_count": 11,
     "metadata": {},
     "output_type": "execute_result"
    }
   ],
   "source": [
    "police_calls['disposition_desc'].isna().sum()"
   ]
  },
  {
   "cell_type": "markdown",
   "id": "6f2436a4",
   "metadata": {},
   "source": [
    "> Next, using `.loc[ ]` to remove the 'DISREGARD / SIGNAL 9' and 'NO RESPONSE' values."
   ]
  },
  {
   "cell_type": "code",
   "execution_count": 12,
   "id": "35c41293",
   "metadata": {},
   "outputs": [],
   "source": [
    "police_calls_remove = police_calls.loc[~police_calls.disposition_desc.isin(['DISREGARD / SIGNAL 9','NO RESPONSE'])]"
   ]
  },
  {
   "cell_type": "markdown",
   "id": "f8b4116e",
   "metadata": {},
   "source": [
    "> Use `.unique()` to confirm those values were removed."
   ]
  },
  {
   "cell_type": "code",
   "execution_count": 13,
   "id": "7a822957",
   "metadata": {},
   "outputs": [
    {
     "data": {
      "text/plain": [
       "array(['CITATION - TRAFFIC', 'SUBJECT WARNED', 'ASSISTED OTHER UNIT',\n",
       "       'GONE ON ARRIVAL', 'ASSISTED CITIZEN', 'COMMUNITY POLICING',\n",
       "       'LOCATION/BUILDING SECURE', 'M.P.D. REPORT COMPLED',\n",
       "       'ADVISED IN CIVIL CASE', 'FALSE CALL',\n",
       "       'ARREST, CUSTODIAL OR CITATION', 'ASSISTANCE REFUSED',\n",
       "       'ADVISORY / NOTICE FORM GIVEN'], dtype=object)"
      ]
     },
     "execution_count": 13,
     "metadata": {},
     "output_type": "execute_result"
    }
   ],
   "source": [
    "police_calls_remove['disposition_desc'].unique()"
   ]
  },
  {
   "cell_type": "markdown",
   "id": "3fa6a858",
   "metadata": {},
   "source": [
    "> Alternatively, use `value_counts()` to see the values left in list form."
   ]
  },
  {
   "cell_type": "code",
   "execution_count": 14,
   "id": "e012534f",
   "metadata": {},
   "outputs": [
    {
     "data": {
      "text/plain": [
       "SUBJECT WARNED                   125522\n",
       "LOCATION/BUILDING SECURE         120687\n",
       "ASSISTED CITIZEN                 106585\n",
       "COMMUNITY POLICING                80287\n",
       "ASSISTED OTHER UNIT               55071\n",
       "GONE ON ARRIVAL                   45375\n",
       "M.P.D. REPORT COMPLED             41708\n",
       "CITATION - TRAFFIC                30390\n",
       "ARREST, CUSTODIAL OR CITATION      8408\n",
       "FALSE CALL                         6767\n",
       "ASSISTANCE REFUSED                 1960\n",
       "ADVISED IN CIVIL CASE              1377\n",
       "ADVISORY / NOTICE FORM GIVEN        704\n",
       "Name: disposition_desc, dtype: int64"
      ]
     },
     "execution_count": 14,
     "metadata": {},
     "output_type": "execute_result"
    }
   ],
   "source": [
    "police_calls_remove.disposition_desc.value_counts()"
   ]
  },
  {
   "cell_type": "markdown",
   "id": "987de6dd",
   "metadata": {},
   "source": [
    "> Confirm with `.shape` that there are only 624841 rows remaining."
   ]
  },
  {
   "cell_type": "code",
   "execution_count": 15,
   "id": "ca3eecdb",
   "metadata": {},
   "outputs": [
    {
     "data": {
      "text/plain": [
       "(624841, 13)"
      ]
     },
     "execution_count": 15,
     "metadata": {},
     "output_type": "execute_result"
    }
   ],
   "source": [
    "police_calls_remove.shape"
   ]
  },
  {
   "cell_type": "markdown",
   "id": "e2a57879",
   "metadata": {},
   "source": [
    "***\n",
    "# 7. Create a dataframe from the *tencode_desc* value counts called *tencode_counts*.\n",
    "- It should have two columns called __tencode__ and __tencode_count__."
   ]
  },
  {
   "cell_type": "markdown",
   "id": "25da274a",
   "metadata": {},
   "source": [
    "> Get value counts for __tencode__ and __tencode_desc__. This will return the values as a __series__ (not a DataFrame)."
   ]
  },
  {
   "cell_type": "code",
   "execution_count": 45,
   "id": "68fbe506",
   "metadata": {},
   "outputs": [
    {
     "data": {
      "text/plain": [
       "tencode  tencode_desc                               \n",
       "96       Business Check                                 155283\n",
       "93       Traffic Violation                              142794\n",
       "43       Want Officer for Investigation / Assistance    122017\n",
       "dtype: int64"
      ]
     },
     "execution_count": 45,
     "metadata": {},
     "output_type": "execute_result"
    }
   ],
   "source": [
    "tencode_counts = police_calls.value_counts(subset=['tencode','tencode_desc'])\n",
    "tencode_counts.head(3)"
   ]
  },
  {
   "cell_type": "markdown",
   "id": "54403d0d",
   "metadata": {},
   "source": [
    "> Use `reset_index()` to turn the series into a DataFrame while adding an index column."
   ]
  },
  {
   "cell_type": "code",
   "execution_count": 17,
   "id": "092d7813",
   "metadata": {},
   "outputs": [
    {
     "data": {
      "text/html": [
       "<div>\n",
       "<style scoped>\n",
       "    .dataframe tbody tr th:only-of-type {\n",
       "        vertical-align: middle;\n",
       "    }\n",
       "\n",
       "    .dataframe tbody tr th {\n",
       "        vertical-align: top;\n",
       "    }\n",
       "\n",
       "    .dataframe thead th {\n",
       "        text-align: right;\n",
       "    }\n",
       "</style>\n",
       "<table border=\"1\" class=\"dataframe\">\n",
       "  <thead>\n",
       "    <tr style=\"text-align: right;\">\n",
       "      <th></th>\n",
       "      <th>tencode</th>\n",
       "      <th>tencode_desc</th>\n",
       "      <th>0</th>\n",
       "    </tr>\n",
       "  </thead>\n",
       "  <tbody>\n",
       "    <tr>\n",
       "      <th>0</th>\n",
       "      <td>96</td>\n",
       "      <td>Business Check</td>\n",
       "      <td>155283</td>\n",
       "    </tr>\n",
       "    <tr>\n",
       "      <th>1</th>\n",
       "      <td>93</td>\n",
       "      <td>Traffic Violation</td>\n",
       "      <td>142794</td>\n",
       "    </tr>\n",
       "  </tbody>\n",
       "</table>\n",
       "</div>"
      ],
      "text/plain": [
       "   tencode       tencode_desc       0\n",
       "0       96     Business Check  155283\n",
       "1       93  Traffic Violation  142794"
      ]
     },
     "execution_count": 17,
     "metadata": {},
     "output_type": "execute_result"
    }
   ],
   "source": [
    "tencode_counts = tencode_counts.reset_index()\n",
    "tencode_counts.head(2)"
   ]
  },
  {
   "cell_type": "markdown",
   "id": "7823673f",
   "metadata": {},
   "source": [
    "> Drop the column __tencode__ that has the 2-digit tencode."
   ]
  },
  {
   "cell_type": "code",
   "execution_count": 18,
   "id": "8dddfdf7",
   "metadata": {},
   "outputs": [
    {
     "data": {
      "text/html": [
       "<div>\n",
       "<style scoped>\n",
       "    .dataframe tbody tr th:only-of-type {\n",
       "        vertical-align: middle;\n",
       "    }\n",
       "\n",
       "    .dataframe tbody tr th {\n",
       "        vertical-align: top;\n",
       "    }\n",
       "\n",
       "    .dataframe thead th {\n",
       "        text-align: right;\n",
       "    }\n",
       "</style>\n",
       "<table border=\"1\" class=\"dataframe\">\n",
       "  <thead>\n",
       "    <tr style=\"text-align: right;\">\n",
       "      <th></th>\n",
       "      <th>tencode_desc</th>\n",
       "      <th>0</th>\n",
       "    </tr>\n",
       "  </thead>\n",
       "  <tbody>\n",
       "    <tr>\n",
       "      <th>0</th>\n",
       "      <td>Business Check</td>\n",
       "      <td>155283</td>\n",
       "    </tr>\n",
       "    <tr>\n",
       "      <th>1</th>\n",
       "      <td>Traffic Violation</td>\n",
       "      <td>142794</td>\n",
       "    </tr>\n",
       "  </tbody>\n",
       "</table>\n",
       "</div>"
      ],
      "text/plain": [
       "        tencode_desc       0\n",
       "0     Business Check  155283\n",
       "1  Traffic Violation  142794"
      ]
     },
     "execution_count": 18,
     "metadata": {},
     "output_type": "execute_result"
    }
   ],
   "source": [
    "tencode_counts = tencode_counts.drop(columns = ['tencode'])\n",
    "tencode_counts.head(2)"
   ]
  },
  {
   "cell_type": "markdown",
   "id": "aa32fdc5",
   "metadata": {},
   "source": [
    "> Rename the columns."
   ]
  },
  {
   "cell_type": "code",
   "execution_count": 19,
   "id": "bff85f53",
   "metadata": {},
   "outputs": [
    {
     "data": {
      "text/html": [
       "<div>\n",
       "<style scoped>\n",
       "    .dataframe tbody tr th:only-of-type {\n",
       "        vertical-align: middle;\n",
       "    }\n",
       "\n",
       "    .dataframe tbody tr th {\n",
       "        vertical-align: top;\n",
       "    }\n",
       "\n",
       "    .dataframe thead th {\n",
       "        text-align: right;\n",
       "    }\n",
       "</style>\n",
       "<table border=\"1\" class=\"dataframe\">\n",
       "  <thead>\n",
       "    <tr style=\"text-align: right;\">\n",
       "      <th></th>\n",
       "      <th>tencode</th>\n",
       "      <th>tencode_count</th>\n",
       "    </tr>\n",
       "  </thead>\n",
       "  <tbody>\n",
       "    <tr>\n",
       "      <th>0</th>\n",
       "      <td>Business Check</td>\n",
       "      <td>155283</td>\n",
       "    </tr>\n",
       "    <tr>\n",
       "      <th>1</th>\n",
       "      <td>Traffic Violation</td>\n",
       "      <td>142794</td>\n",
       "    </tr>\n",
       "  </tbody>\n",
       "</table>\n",
       "</div>"
      ],
      "text/plain": [
       "             tencode  tencode_count\n",
       "0     Business Check         155283\n",
       "1  Traffic Violation         142794"
      ]
     },
     "execution_count": 19,
     "metadata": {},
     "output_type": "execute_result"
    }
   ],
   "source": [
    "tencode_counts = tencode_counts.rename(columns = {\n",
    "    'tencode_desc' : 'tencode',\n",
    "    0: 'tencode_count',\n",
    "})\n",
    "tencode_counts.head(2)"
   ]
  },
  {
   "cell_type": "markdown",
   "id": "e555c51b",
   "metadata": {},
   "source": [
    "***\n",
    "# 8. Create a seaborn horizontal barplot to show the 2018 calls for police service by tencode.\n",
    "- Adjust the figsize so that you can see all of the data."
   ]
  },
  {
   "cell_type": "markdown",
   "id": "4184b8a9",
   "metadata": {},
   "source": [
    "> Plot the data on a barplot with `barh` for horizontal barplot."
   ]
  },
  {
   "cell_type": "code",
   "execution_count": 20,
   "id": "6255f0cc",
   "metadata": {},
   "outputs": [
    {
     "data": {
      "image/png": "[encoded data removed]",
      "text/plain": [
       "<Figure size 432x288 with 1 Axes>"
      ]
     },
     "metadata": {
      "needs_background": "light"
     },
     "output_type": "display_data"
    }
   ],
   "source": [
    "tencode_counts.plot(kind = 'barh', \n",
    "                 x = 'tencode', \n",
    "                 y = 'tencode_count');"
   ]
  },
  {
   "cell_type": "markdown",
   "id": "65081f1a",
   "metadata": {},
   "source": [
    "> Use `sort_values` to sort descending."
   ]
  },
  {
   "cell_type": "code",
   "execution_count": 21,
   "id": "5af66d0c",
   "metadata": {},
   "outputs": [
    {
     "data": {
      "image/png": "[encoded data removed]",
      "text/plain": [
       "<Figure size 432x288 with 1 Axes>"
      ]
     },
     "metadata": {
      "needs_background": "light"
     },
     "output_type": "display_data"
    }
   ],
   "source": [
    "tencode_counts.sort_values(\"tencode_count\").plot(kind = 'barh', \n",
    "                 x = 'tencode', \n",
    "                 y = 'tencode_count');"
   ]
  },
  {
   "cell_type": "markdown",
   "id": "1fd515c3",
   "metadata": {},
   "source": [
    "> Increase the figure size using `figsize` to allow room for all the tencodes.<br>\n",
    "> Add a color scheme with `set_color_codes()`.<br>\n",
    "> Create a title for the plot with `plt.title`."
   ]
  },
  {
   "cell_type": "code",
   "execution_count": 22,
   "id": "6f8825d2",
   "metadata": {},
   "outputs": [
    {
     "data": {
      "image/png": "[encoded data removed]",
      "text/plain": [
       "<Figure size 1080x1440 with 1 Axes>"
      ]
     },
     "metadata": {
      "needs_background": "light"
     },
     "output_type": "display_data"
    }
   ],
   "source": [
    "plt.figure(figsize = (15, 20))                               # Increase the plot size to (x,y) 15x20\n",
    "sns.set_color_codes(\"muted\")\n",
    "sns.barplot(x=\"tencode_count\",\n",
    "            y=\"tencode\",\n",
    "            data=tencode_counts)\n",
    "plt.xlabel('')                                              # Remove the x-axis label\n",
    "plt.ylabel('')                                              # Remove the y-axis label\n",
    "plt.title('Police Calls by Tencode Count');"
   ]
  },
  {
   "cell_type": "markdown",
   "id": "29859e09",
   "metadata": {},
   "source": [
    "***\n",
    "# 9. Find the counts of calls by zipcode and plot that.\n",
    "- Zip codes look like numeric data, but should usually be treated as categorical.\n",
    "- Convert the zipcode column to a string before plotting to avoid having big gaps where there are numbers but no zip codes.\n",
    "- Give the plot a meaningful title.\n",
    "- Adjust the figsize so that you can see all of the data."
   ]
  },
  {
   "cell_type": "code",
   "execution_count": 23,
   "id": "62ec7e96",
   "metadata": {},
   "outputs": [
    {
     "data": {
      "text/html": [
       "<div>\n",
       "<style scoped>\n",
       "    .dataframe tbody tr th:only-of-type {\n",
       "        vertical-align: middle;\n",
       "    }\n",
       "\n",
       "    .dataframe tbody tr th {\n",
       "        vertical-align: top;\n",
       "    }\n",
       "\n",
       "    .dataframe thead th {\n",
       "        text-align: right;\n",
       "    }\n",
       "</style>\n",
       "<table border=\"1\" class=\"dataframe\">\n",
       "  <thead>\n",
       "    <tr style=\"text-align: right;\">\n",
       "      <th></th>\n",
       "      <th>call_time</th>\n",
       "      <th>shift</th>\n",
       "      <th>tencode</th>\n",
       "      <th>tencode_desc</th>\n",
       "      <th>disposition</th>\n",
       "      <th>disposition_desc</th>\n",
       "      <th>unit_dispatched</th>\n",
       "      <th>sector</th>\n",
       "      <th>zone</th>\n",
       "      <th>lat</th>\n",
       "      <th>lng</th>\n",
       "      <th>zipcode</th>\n",
       "      <th>po</th>\n",
       "    </tr>\n",
       "  </thead>\n",
       "  <tbody>\n",
       "    <tr>\n",
       "      <th>0</th>\n",
       "      <td>02/16/2018 07:09:00 PM</td>\n",
       "      <td>B</td>\n",
       "      <td>93</td>\n",
       "      <td>Traffic Violation</td>\n",
       "      <td>3</td>\n",
       "      <td>CITATION - TRAFFIC</td>\n",
       "      <td>521B</td>\n",
       "      <td>H</td>\n",
       "      <td>23</td>\n",
       "      <td>36.210</td>\n",
       "      <td>-86.600</td>\n",
       "      <td>37076</td>\n",
       "      <td>HERMITAGE</td>\n",
       "    </tr>\n",
       "    <tr>\n",
       "      <th>1</th>\n",
       "      <td>02/16/2018 08:02:00 PM</td>\n",
       "      <td>B</td>\n",
       "      <td>93</td>\n",
       "      <td>Traffic Violation</td>\n",
       "      <td>9</td>\n",
       "      <td>SUBJECT WARNED</td>\n",
       "      <td>5F34</td>\n",
       "      <td>H</td>\n",
       "      <td>21</td>\n",
       "      <td>36.169</td>\n",
       "      <td>-86.601</td>\n",
       "      <td>37076</td>\n",
       "      <td>HERMITAGE</td>\n",
       "    </tr>\n",
       "  </tbody>\n",
       "</table>\n",
       "</div>"
      ],
      "text/plain": [
       "                call_time shift  tencode       tencode_desc  disposition  \\\n",
       "0  02/16/2018 07:09:00 PM     B       93  Traffic Violation            3   \n",
       "1  02/16/2018 08:02:00 PM     B       93  Traffic Violation            9   \n",
       "\n",
       "     disposition_desc unit_dispatched sector zone     lat     lng  zipcode  \\\n",
       "0  CITATION - TRAFFIC            521B      H   23  36.210 -86.600    37076   \n",
       "1      SUBJECT WARNED            5F34      H   21  36.169 -86.601    37076   \n",
       "\n",
       "          po  \n",
       "0  HERMITAGE  \n",
       "1  HERMITAGE  "
      ]
     },
     "execution_count": 23,
     "metadata": {},
     "output_type": "execute_result"
    }
   ],
   "source": [
    "police_calls.head(2)"
   ]
  },
  {
   "cell_type": "code",
   "execution_count": 24,
   "id": "ce152dc9",
   "metadata": {},
   "outputs": [
    {
     "data": {
      "text/html": [
       "<div>\n",
       "<style scoped>\n",
       "    .dataframe tbody tr th:only-of-type {\n",
       "        vertical-align: middle;\n",
       "    }\n",
       "\n",
       "    .dataframe tbody tr th {\n",
       "        vertical-align: top;\n",
       "    }\n",
       "\n",
       "    .dataframe thead th {\n",
       "        text-align: right;\n",
       "    }\n",
       "</style>\n",
       "<table border=\"1\" class=\"dataframe\">\n",
       "  <thead>\n",
       "    <tr style=\"text-align: right;\">\n",
       "      <th></th>\n",
       "      <th>zipcode</th>\n",
       "      <th>tencode_desc</th>\n",
       "    </tr>\n",
       "  </thead>\n",
       "  <tbody>\n",
       "    <tr>\n",
       "      <th>0</th>\n",
       "      <td>37076</td>\n",
       "      <td>Traffic Violation</td>\n",
       "    </tr>\n",
       "    <tr>\n",
       "      <th>1</th>\n",
       "      <td>37076</td>\n",
       "      <td>Traffic Violation</td>\n",
       "    </tr>\n",
       "  </tbody>\n",
       "</table>\n",
       "</div>"
      ],
      "text/plain": [
       "   zipcode       tencode_desc\n",
       "0    37076  Traffic Violation\n",
       "1    37076  Traffic Violation"
      ]
     },
     "execution_count": 24,
     "metadata": {},
     "output_type": "execute_result"
    }
   ],
   "source": [
    "police_calls_by_zipcode = police_calls[['zipcode','tencode_desc']]\n",
    "police_calls_by_zipcode.head(2)"
   ]
  },
  {
   "cell_type": "code",
   "execution_count": 25,
   "id": "be4e37f3",
   "metadata": {},
   "outputs": [
    {
     "data": {
      "text/plain": [
       "Index(['zipcode', 'tencode_desc'], dtype='object')"
      ]
     },
     "execution_count": 25,
     "metadata": {},
     "output_type": "execute_result"
    }
   ],
   "source": [
    "police_calls_by_zipcode.columns"
   ]
  },
  {
   "cell_type": "code",
   "execution_count": 36,
   "id": "c3bb5c1c",
   "metadata": {},
   "outputs": [
    {
     "data": {
      "text/html": [
       "<div>\n",
       "<style scoped>\n",
       "    .dataframe tbody tr th:only-of-type {\n",
       "        vertical-align: middle;\n",
       "    }\n",
       "\n",
       "    .dataframe tbody tr th {\n",
       "        vertical-align: top;\n",
       "    }\n",
       "\n",
       "    .dataframe thead th {\n",
       "        text-align: right;\n",
       "    }\n",
       "</style>\n",
       "<table border=\"1\" class=\"dataframe\">\n",
       "  <thead>\n",
       "    <tr style=\"text-align: right;\">\n",
       "      <th></th>\n",
       "      <th>zipcode</th>\n",
       "      <th>tencode</th>\n",
       "    </tr>\n",
       "  </thead>\n",
       "  <tbody>\n",
       "    <tr>\n",
       "      <th>0</th>\n",
       "      <td>37076</td>\n",
       "      <td>Traffic Violation</td>\n",
       "    </tr>\n",
       "    <tr>\n",
       "      <th>1</th>\n",
       "      <td>37076</td>\n",
       "      <td>Traffic Violation</td>\n",
       "    </tr>\n",
       "  </tbody>\n",
       "</table>\n",
       "</div>"
      ],
      "text/plain": [
       "  zipcode            tencode\n",
       "0   37076  Traffic Violation\n",
       "1   37076  Traffic Violation"
      ]
     },
     "execution_count": 36,
     "metadata": {},
     "output_type": "execute_result"
    }
   ],
   "source": [
    "police_calls_by_zipcode = police_calls_by_zipcode.rename(columns = {\n",
    "    'zipcode' : 'zipcode',\n",
    "    'tencode_desc' : 'tencode'\n",
    "})\n",
    "police_calls_by_zipcode.head(2)"
   ]
  },
  {
   "cell_type": "code",
   "execution_count": 29,
   "id": "fb292650",
   "metadata": {},
   "outputs": [
    {
     "data": {
      "text/plain": [
       "(717888, 2)"
      ]
     },
     "execution_count": 29,
     "metadata": {},
     "output_type": "execute_result"
    }
   ],
   "source": [
    "police_calls_by_zipcode.shape"
   ]
  },
  {
   "cell_type": "code",
   "execution_count": null,
   "id": "2c851834",
   "metadata": {},
   "outputs": [],
   "source": []
  },
  {
   "cell_type": "markdown",
   "id": "b8940a87",
   "metadata": {},
   "source": [
    "### Convert zipcode into string datatype.\n",
    "> Show the datatypes of the columns BEFORE conversion - notice that __zipcode__ is datatype int64. <br>\n",
    ">https://www.delftstack.com/howto/python-pandas/pandas-convert-column-values-to-string/"
   ]
  },
  {
   "cell_type": "code",
   "execution_count": 31,
   "id": "8e61d756",
   "metadata": {},
   "outputs": [
    {
     "name": "stdout",
     "output_type": "stream",
     "text": [
      "Datatype of columns before conversion:\n",
      "zipcode     int64\n",
      "tencode    object\n",
      "dtype: object \n",
      "\n"
     ]
    }
   ],
   "source": [
    "print(\"Datatype of columns before conversion:\")\n",
    "print(police_calls_by_zipcode.dtypes,\"\\n\")"
   ]
  },
  {
   "cell_type": "markdown",
   "id": "afdc9b69",
   "metadata": {},
   "source": [
    "> Convert zipcode column to string using `.apply(str)`.<br>\n",
    "> There are 4 methods, described here https://www.geeksforgeeks.org/fastest-way-to-convert-integers-to-strings-in-pandas-dataframe/ <br>\n",
    "> Assign the result back to the __police_calls__ dataframe."
   ]
  },
  {
   "cell_type": "code",
   "execution_count": 32,
   "id": "499b6d8d",
   "metadata": {},
   "outputs": [],
   "source": [
    "police_calls_by_zipcode['zipcode'] = police_calls_by_zipcode['zipcode'].apply(str)   # converts zipcode column to string."
   ]
  },
  {
   "cell_type": "markdown",
   "id": "614baa44",
   "metadata": {},
   "source": [
    "> Show the datatypes of the columns AFTER conversion to string - note that __zipcode__ is now datatype object.\n"
   ]
  },
  {
   "cell_type": "code",
   "execution_count": 33,
   "id": "08e3b21c",
   "metadata": {},
   "outputs": [
    {
     "name": "stdout",
     "output_type": "stream",
     "text": [
      "Datatype of columns after conversion:\n",
      "zipcode    object\n",
      "tencode    object\n",
      "dtype: object \n",
      "\n"
     ]
    }
   ],
   "source": [
    "print(\"Datatype of columns after conversion:\")\n",
    "print(police_calls_by_zipcode.dtypes,\"\\n\")"
   ]
  },
  {
   "cell_type": "code",
   "execution_count": 44,
   "id": "455db67c",
   "metadata": {},
   "outputs": [
    {
     "data": {
      "text/plain": [
       "zipcode  tencode                                    \n",
       "37209    Business Check                                 17739\n",
       "37203    Business Check                                 17658\n",
       "37207    Traffic Violation                              13028\n",
       "37209    Traffic Violation                              12767\n",
       "37211    Traffic Violation                              12527\n",
       "37206    Traffic Violation                              12441\n",
       "37203    Traffic Violation                              12070\n",
       "37115    Business Check                                 11903\n",
       "37211    Want Officer for Investigation / Assistance    11505\n",
       "37221    Business Check                                 10843\n",
       "dtype: int64"
      ]
     },
     "execution_count": 44,
     "metadata": {},
     "output_type": "execute_result"
    }
   ],
   "source": [
    "tencode_by_zipcode = police_calls_by_zipcode.value_counts([\"zipcode\", \"tencode\"])\n",
    "tencode_by_zipcode.head(10)"
   ]
  },
  {
   "cell_type": "markdown",
   "id": "d5d5ba5b",
   "metadata": {},
   "source": [
    "> Use `reset_index()` to turn the series into a DataFrame while adding an index column."
   ]
  },
  {
   "cell_type": "code",
   "execution_count": 34,
   "id": "0e57b4c0",
   "metadata": {},
   "outputs": [
    {
     "ename": "TypeError",
     "evalue": "no numeric data to plot",
     "output_type": "error",
     "traceback": [
      "\u001b[0;31m---------------------------------------------------------------------------\u001b[0m",
      "\u001b[0;31mTypeError\u001b[0m                                 Traceback (most recent call last)",
      "Input \u001b[0;32mIn [34]\u001b[0m, in \u001b[0;36m<cell line: 1>\u001b[0;34m()\u001b[0m\n\u001b[0;32m----> 1\u001b[0m \u001b[43mpolice_calls_by_zipcode\u001b[49m\u001b[38;5;241;43m.\u001b[39;49m\u001b[43mplot\u001b[49m\u001b[43m(\u001b[49m\u001b[43mkind\u001b[49m\u001b[43m \u001b[49m\u001b[38;5;241;43m=\u001b[39;49m\u001b[43m \u001b[49m\u001b[38;5;124;43m'\u001b[39;49m\u001b[38;5;124;43mbarh\u001b[39;49m\u001b[38;5;124;43m'\u001b[39;49m\u001b[43m,\u001b[49m\u001b[43m \u001b[49m\n\u001b[1;32m      2\u001b[0m \u001b[43m                 \u001b[49m\u001b[43mx\u001b[49m\u001b[43m \u001b[49m\u001b[38;5;241;43m=\u001b[39;49m\u001b[43m \u001b[49m\u001b[38;5;124;43m'\u001b[39;49m\u001b[38;5;124;43mzipcode\u001b[39;49m\u001b[38;5;124;43m'\u001b[39;49m\u001b[43m,\u001b[49m\u001b[43m \u001b[49m\n\u001b[1;32m      3\u001b[0m \u001b[43m                 \u001b[49m\u001b[43my\u001b[49m\u001b[43m \u001b[49m\u001b[38;5;241;43m=\u001b[39;49m\u001b[43m \u001b[49m\u001b[38;5;124;43m'\u001b[39;49m\u001b[38;5;124;43mtencode\u001b[39;49m\u001b[38;5;124;43m'\u001b[39;49m\u001b[43m)\u001b[49m\n",
      "File \u001b[0;32m~/opt/anaconda3/lib/python3.9/site-packages/pandas/plotting/_core.py:972\u001b[0m, in \u001b[0;36mPlotAccessor.__call__\u001b[0;34m(self, *args, **kwargs)\u001b[0m\n\u001b[1;32m    969\u001b[0m             label_name \u001b[38;5;241m=\u001b[39m label_kw \u001b[38;5;129;01mor\u001b[39;00m data\u001b[38;5;241m.\u001b[39mcolumns\n\u001b[1;32m    970\u001b[0m             data\u001b[38;5;241m.\u001b[39mcolumns \u001b[38;5;241m=\u001b[39m label_name\n\u001b[0;32m--> 972\u001b[0m \u001b[38;5;28;01mreturn\u001b[39;00m \u001b[43mplot_backend\u001b[49m\u001b[38;5;241;43m.\u001b[39;49m\u001b[43mplot\u001b[49m\u001b[43m(\u001b[49m\u001b[43mdata\u001b[49m\u001b[43m,\u001b[49m\u001b[43m \u001b[49m\u001b[43mkind\u001b[49m\u001b[38;5;241;43m=\u001b[39;49m\u001b[43mkind\u001b[49m\u001b[43m,\u001b[49m\u001b[43m \u001b[49m\u001b[38;5;241;43m*\u001b[39;49m\u001b[38;5;241;43m*\u001b[39;49m\u001b[43mkwargs\u001b[49m\u001b[43m)\u001b[49m\n",
      "File \u001b[0;32m~/opt/anaconda3/lib/python3.9/site-packages/pandas/plotting/_matplotlib/__init__.py:71\u001b[0m, in \u001b[0;36mplot\u001b[0;34m(data, kind, **kwargs)\u001b[0m\n\u001b[1;32m     69\u001b[0m         kwargs[\u001b[38;5;124m\"\u001b[39m\u001b[38;5;124max\u001b[39m\u001b[38;5;124m\"\u001b[39m] \u001b[38;5;241m=\u001b[39m \u001b[38;5;28mgetattr\u001b[39m(ax, \u001b[38;5;124m\"\u001b[39m\u001b[38;5;124mleft_ax\u001b[39m\u001b[38;5;124m\"\u001b[39m, ax)\n\u001b[1;32m     70\u001b[0m plot_obj \u001b[38;5;241m=\u001b[39m PLOT_CLASSES[kind](data, \u001b[38;5;241m*\u001b[39m\u001b[38;5;241m*\u001b[39mkwargs)\n\u001b[0;32m---> 71\u001b[0m \u001b[43mplot_obj\u001b[49m\u001b[38;5;241;43m.\u001b[39;49m\u001b[43mgenerate\u001b[49m\u001b[43m(\u001b[49m\u001b[43m)\u001b[49m\n\u001b[1;32m     72\u001b[0m plot_obj\u001b[38;5;241m.\u001b[39mdraw()\n\u001b[1;32m     73\u001b[0m \u001b[38;5;28;01mreturn\u001b[39;00m plot_obj\u001b[38;5;241m.\u001b[39mresult\n",
      "File \u001b[0;32m~/opt/anaconda3/lib/python3.9/site-packages/pandas/plotting/_matplotlib/core.py:327\u001b[0m, in \u001b[0;36mMPLPlot.generate\u001b[0;34m(self)\u001b[0m\n\u001b[1;32m    325\u001b[0m \u001b[38;5;28;01mdef\u001b[39;00m \u001b[38;5;21mgenerate\u001b[39m(\u001b[38;5;28mself\u001b[39m):\n\u001b[1;32m    326\u001b[0m     \u001b[38;5;28mself\u001b[39m\u001b[38;5;241m.\u001b[39m_args_adjust()\n\u001b[0;32m--> 327\u001b[0m     \u001b[38;5;28;43mself\u001b[39;49m\u001b[38;5;241;43m.\u001b[39;49m\u001b[43m_compute_plot_data\u001b[49m\u001b[43m(\u001b[49m\u001b[43m)\u001b[49m\n\u001b[1;32m    328\u001b[0m     \u001b[38;5;28mself\u001b[39m\u001b[38;5;241m.\u001b[39m_setup_subplots()\n\u001b[1;32m    329\u001b[0m     \u001b[38;5;28mself\u001b[39m\u001b[38;5;241m.\u001b[39m_make_plot()\n",
      "File \u001b[0;32m~/opt/anaconda3/lib/python3.9/site-packages/pandas/plotting/_matplotlib/core.py:506\u001b[0m, in \u001b[0;36mMPLPlot._compute_plot_data\u001b[0;34m(self)\u001b[0m\n\u001b[1;32m    504\u001b[0m \u001b[38;5;66;03m# no non-numeric frames or series allowed\u001b[39;00m\n\u001b[1;32m    505\u001b[0m \u001b[38;5;28;01mif\u001b[39;00m is_empty:\n\u001b[0;32m--> 506\u001b[0m     \u001b[38;5;28;01mraise\u001b[39;00m \u001b[38;5;167;01mTypeError\u001b[39;00m(\u001b[38;5;124m\"\u001b[39m\u001b[38;5;124mno numeric data to plot\u001b[39m\u001b[38;5;124m\"\u001b[39m)\n\u001b[1;32m    508\u001b[0m \u001b[38;5;28mself\u001b[39m\u001b[38;5;241m.\u001b[39mdata \u001b[38;5;241m=\u001b[39m numeric_data\u001b[38;5;241m.\u001b[39mapply(\u001b[38;5;28mself\u001b[39m\u001b[38;5;241m.\u001b[39m_convert_to_ndarray)\n",
      "\u001b[0;31mTypeError\u001b[0m: no numeric data to plot"
     ]
    }
   ],
   "source": [
    "police_calls_by_zipcode.plot(kind = 'barh', \n",
    "                 x = 'zipcode', \n",
    "                 y = 'tencode');"
   ]
  }
 ],
 "metadata": {
  "kernelspec": {
   "display_name": "Python 3 (ipykernel)",
   "language": "python",
   "name": "python3"
  },
  "language_info": {
   "codemirror_mode": {
    "name": "ipython",
    "version": 3
   },
   "file_extension": ".py",
   "mimetype": "text/x-python",
   "name": "python",
   "nbconvert_exporter": "python",
   "pygments_lexer": "ipython3",
   "version": "3.9.12"
  }
 },
 "nbformat": 4,
 "nbformat_minor": 5
}
