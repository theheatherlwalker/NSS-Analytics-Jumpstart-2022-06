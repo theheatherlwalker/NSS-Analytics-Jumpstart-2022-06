{
 "cells": [
  {
   "cell_type": "markdown",
   "id": "ac29a132",
   "metadata": {},
   "source": [
    "# 1. Import the packages\n",
    "Import the packages by running the code below in a Jupyter notebook cell. If you decide to import additional packages over the next few weeks, be sure to add them to this cell. Also add the command that starts with % to the bottom of this cell. This is called a magic command and displays your plots in the notebook without having to also call a separate command.<br><br>\n",
    "<mark>import pandas as pd<br>\n",
    "import matplotlib.pyplot as plt<br>\n",
    "import seaborn as sns<br>\n",
    "import sqlite3 as sql<br>\n",
    "%matplotlib inline<br></mark>"
   ]
  },
  {
   "cell_type": "code",
   "execution_count": 1,
   "id": "4baf9ed7",
   "metadata": {},
   "outputs": [],
   "source": [
    "import pandas as pd\n",
    "import matplotlib.pyplot as plt\n",
    "import seaborn as sns\n",
    "import sqlite3 as sql\n",
    "%matplotlib inline"
   ]
  },
  {
   "cell_type": "markdown",
   "id": "cfc9feb5",
   "metadata": {},
   "source": [
    "<style>\n",
    ".alert-green {\n",
    "  color: rgb(60,118,61) !important;\n",
    "}\n",
    "</style>"
   ]
  },
  {
   "cell_type": "markdown",
   "id": "a6796a18",
   "metadata": {},
   "source": [
    "***\n",
    "# 2. Importing the data to a dataframe\n",
    "Read in the 2018 police calls data __police_calls_2018.csv__ to a dataframe called __police_calls__.\n"
   ]
  },
  {
   "cell_type": "code",
   "execution_count": 2,
   "id": "86ff6e74",
   "metadata": {},
   "outputs": [],
   "source": [
    "police_calls = pd.read_csv('../data/police_calls_2018.csv')"
   ]
  },
  {
   "cell_type": "markdown",
   "id": "01fb7873",
   "metadata": {},
   "source": [
    "# 2a. Look at the first 5 rows.\n",
    "> Use __.head()__ to show first rows."
   ]
  },
  {
   "cell_type": "code",
   "execution_count": 3,
   "id": "e14b6e35",
   "metadata": {},
   "outputs": [
    {
     "data": {
      "text/html": [
       "<div>\n",
       "<style scoped>\n",
       "    .dataframe tbody tr th:only-of-type {\n",
       "        vertical-align: middle;\n",
       "    }\n",
       "\n",
       "    .dataframe tbody tr th {\n",
       "        vertical-align: top;\n",
       "    }\n",
       "\n",
       "    .dataframe thead th {\n",
       "        text-align: right;\n",
       "    }\n",
       "</style>\n",
       "<table border=\"1\" class=\"dataframe\">\n",
       "  <thead>\n",
       "    <tr style=\"text-align: right;\">\n",
       "      <th></th>\n",
       "      <th>Event Number</th>\n",
       "      <th>Call Received</th>\n",
       "      <th>Complaint Number</th>\n",
       "      <th>Shift</th>\n",
       "      <th>Tencode</th>\n",
       "      <th>Tencode Description</th>\n",
       "      <th>Disposition Code</th>\n",
       "      <th>Disposition Description</th>\n",
       "      <th>Block</th>\n",
       "      <th>Street Name</th>\n",
       "      <th>Unit Dispatched</th>\n",
       "      <th>Sector</th>\n",
       "      <th>Zone</th>\n",
       "      <th>Latitude</th>\n",
       "      <th>Longitude</th>\n",
       "      <th>geometry</th>\n",
       "      <th>zipcode</th>\n",
       "      <th>PO</th>\n",
       "    </tr>\n",
       "  </thead>\n",
       "  <tbody>\n",
       "    <tr>\n",
       "      <th>0</th>\n",
       "      <td>PD201800174484</td>\n",
       "      <td>02/16/2018 07:09:00 PM</td>\n",
       "      <td>20180155542</td>\n",
       "      <td>B</td>\n",
       "      <td>93</td>\n",
       "      <td>Traffic Violation</td>\n",
       "      <td>3</td>\n",
       "      <td>CITATION - TRAFFIC</td>\n",
       "      <td>600.0</td>\n",
       "      <td>ALBANY DR</td>\n",
       "      <td>521B</td>\n",
       "      <td>H</td>\n",
       "      <td>23</td>\n",
       "      <td>36.210</td>\n",
       "      <td>-86.600</td>\n",
       "      <td>POINT (-86.59999999999999 36.21)</td>\n",
       "      <td>37076</td>\n",
       "      <td>HERMITAGE</td>\n",
       "    </tr>\n",
       "    <tr>\n",
       "      <th>1</th>\n",
       "      <td>PD201800174650</td>\n",
       "      <td>02/16/2018 08:02:00 PM</td>\n",
       "      <td>20180155684</td>\n",
       "      <td>B</td>\n",
       "      <td>93</td>\n",
       "      <td>Traffic Violation</td>\n",
       "      <td>9</td>\n",
       "      <td>SUBJECT WARNED</td>\n",
       "      <td>5800.0</td>\n",
       "      <td>OLD HICKORY BLVD</td>\n",
       "      <td>5F34</td>\n",
       "      <td>H</td>\n",
       "      <td>21</td>\n",
       "      <td>36.169</td>\n",
       "      <td>-86.601</td>\n",
       "      <td>POINT (-86.601 36.169)</td>\n",
       "      <td>37076</td>\n",
       "      <td>HERMITAGE</td>\n",
       "    </tr>\n",
       "    <tr>\n",
       "      <th>2</th>\n",
       "      <td>PD201800175038</td>\n",
       "      <td>02/16/2018 10:16:00 PM</td>\n",
       "      <td>20180156001</td>\n",
       "      <td>B</td>\n",
       "      <td>3</td>\n",
       "      <td>Administrative/Special Assignment</td>\n",
       "      <td>6</td>\n",
       "      <td>ASSISTED OTHER UNIT</td>\n",
       "      <td>3700.0</td>\n",
       "      <td>JAMES KAY LN</td>\n",
       "      <td>521B</td>\n",
       "      <td>H</td>\n",
       "      <td>21</td>\n",
       "      <td>36.178</td>\n",
       "      <td>-86.616</td>\n",
       "      <td>POINT (-86.616 36.178)</td>\n",
       "      <td>37076</td>\n",
       "      <td>HERMITAGE</td>\n",
       "    </tr>\n",
       "    <tr>\n",
       "      <th>3</th>\n",
       "      <td>PD201800174217</td>\n",
       "      <td>02/16/2018 05:58:00 PM</td>\n",
       "      <td>20180155321</td>\n",
       "      <td>B</td>\n",
       "      <td>87</td>\n",
       "      <td>Safety Hazard</td>\n",
       "      <td>3</td>\n",
       "      <td>CITATION - TRAFFIC</td>\n",
       "      <td>0.0</td>\n",
       "      <td>MM 221 4 I40 E</td>\n",
       "      <td>5122</td>\n",
       "      <td>H</td>\n",
       "      <td>23</td>\n",
       "      <td>36.170</td>\n",
       "      <td>-86.591</td>\n",
       "      <td>POINT (-86.59100000000001 36.17)</td>\n",
       "      <td>37076</td>\n",
       "      <td>HERMITAGE</td>\n",
       "    </tr>\n",
       "    <tr>\n",
       "      <th>4</th>\n",
       "      <td>PD201800173907</td>\n",
       "      <td>02/16/2018 04:19:00 PM</td>\n",
       "      <td>20180155047</td>\n",
       "      <td>B</td>\n",
       "      <td>93</td>\n",
       "      <td>Traffic Violation</td>\n",
       "      <td>9</td>\n",
       "      <td>SUBJECT WARNED</td>\n",
       "      <td>1300.0</td>\n",
       "      <td>TULIP GROVE RD</td>\n",
       "      <td>521B</td>\n",
       "      <td>H</td>\n",
       "      <td>23</td>\n",
       "      <td>36.175</td>\n",
       "      <td>-86.596</td>\n",
       "      <td>POINT (-86.596 36.175)</td>\n",
       "      <td>37076</td>\n",
       "      <td>HERMITAGE</td>\n",
       "    </tr>\n",
       "  </tbody>\n",
       "</table>\n",
       "</div>"
      ],
      "text/plain": [
       "     Event Number           Call Received  Complaint Number Shift  Tencode  \\\n",
       "0  PD201800174484  02/16/2018 07:09:00 PM       20180155542     B       93   \n",
       "1  PD201800174650  02/16/2018 08:02:00 PM       20180155684     B       93   \n",
       "2  PD201800175038  02/16/2018 10:16:00 PM       20180156001     B        3   \n",
       "3  PD201800174217  02/16/2018 05:58:00 PM       20180155321     B       87   \n",
       "4  PD201800173907  02/16/2018 04:19:00 PM       20180155047     B       93   \n",
       "\n",
       "                 Tencode Description  Disposition Code  \\\n",
       "0                  Traffic Violation                 3   \n",
       "1                  Traffic Violation                 9   \n",
       "2  Administrative/Special Assignment                 6   \n",
       "3                      Safety Hazard                 3   \n",
       "4                  Traffic Violation                 9   \n",
       "\n",
       "  Disposition Description   Block        Street Name Unit Dispatched Sector  \\\n",
       "0      CITATION - TRAFFIC   600.0         ALBANY DR             521B      H   \n",
       "1          SUBJECT WARNED  5800.0  OLD HICKORY BLVD             5F34      H   \n",
       "2     ASSISTED OTHER UNIT  3700.0      JAMES KAY LN             521B      H   \n",
       "3      CITATION - TRAFFIC     0.0     MM 221 4 I40 E            5122      H   \n",
       "4          SUBJECT WARNED  1300.0    TULIP GROVE RD             521B      H   \n",
       "\n",
       "  Zone  Latitude  Longitude                          geometry  zipcode  \\\n",
       "0   23    36.210    -86.600  POINT (-86.59999999999999 36.21)    37076   \n",
       "1   21    36.169    -86.601            POINT (-86.601 36.169)    37076   \n",
       "2   21    36.178    -86.616            POINT (-86.616 36.178)    37076   \n",
       "3   23    36.170    -86.591  POINT (-86.59100000000001 36.17)    37076   \n",
       "4   23    36.175    -86.596            POINT (-86.596 36.175)    37076   \n",
       "\n",
       "          PO  \n",
       "0  HERMITAGE  \n",
       "1  HERMITAGE  \n",
       "2  HERMITAGE  \n",
       "3  HERMITAGE  \n",
       "4  HERMITAGE  "
      ]
     },
     "execution_count": 3,
     "metadata": {},
     "output_type": "execute_result"
    }
   ],
   "source": [
    "police_calls.head(5)"
   ]
  },
  {
   "cell_type": "markdown",
   "id": "3b5066ee",
   "metadata": {},
   "source": [
    "# 2b. Look at the last 3 rows.\n",
    "\n",
    "> Use __.tail()__ to display the last rows."
   ]
  },
  {
   "cell_type": "code",
   "execution_count": 4,
   "id": "6724472f",
   "metadata": {},
   "outputs": [
    {
     "data": {
      "text/html": [
       "<div>\n",
       "<style scoped>\n",
       "    .dataframe tbody tr th:only-of-type {\n",
       "        vertical-align: middle;\n",
       "    }\n",
       "\n",
       "    .dataframe tbody tr th {\n",
       "        vertical-align: top;\n",
       "    }\n",
       "\n",
       "    .dataframe thead th {\n",
       "        text-align: right;\n",
       "    }\n",
       "</style>\n",
       "<table border=\"1\" class=\"dataframe\">\n",
       "  <thead>\n",
       "    <tr style=\"text-align: right;\">\n",
       "      <th></th>\n",
       "      <th>Event Number</th>\n",
       "      <th>Call Received</th>\n",
       "      <th>Complaint Number</th>\n",
       "      <th>Shift</th>\n",
       "      <th>Tencode</th>\n",
       "      <th>Tencode Description</th>\n",
       "      <th>Disposition Code</th>\n",
       "      <th>Disposition Description</th>\n",
       "      <th>Block</th>\n",
       "      <th>Street Name</th>\n",
       "      <th>Unit Dispatched</th>\n",
       "      <th>Sector</th>\n",
       "      <th>Zone</th>\n",
       "      <th>Latitude</th>\n",
       "      <th>Longitude</th>\n",
       "      <th>geometry</th>\n",
       "      <th>zipcode</th>\n",
       "      <th>PO</th>\n",
       "    </tr>\n",
       "  </thead>\n",
       "  <tbody>\n",
       "    <tr>\n",
       "      <th>718018</th>\n",
       "      <td>PD201800855208</td>\n",
       "      <td>08/29/2018 09:11:36 AM</td>\n",
       "      <td>20180740194</td>\n",
       "      <td>A</td>\n",
       "      <td>45</td>\n",
       "      <td>Vehicle Accident - Property Damage</td>\n",
       "      <td>1</td>\n",
       "      <td>M.P.D. REPORT COMPLED</td>\n",
       "      <td>6900.0</td>\n",
       "      <td>NOLENSVILLE PKE</td>\n",
       "      <td>3T73</td>\n",
       "      <td>S</td>\n",
       "      <td>31</td>\n",
       "      <td>35.994</td>\n",
       "      <td>-86.685</td>\n",
       "      <td>POINT (-86.685 35.994)</td>\n",
       "      <td>37027</td>\n",
       "      <td>BRENTWOOD</td>\n",
       "    </tr>\n",
       "    <tr>\n",
       "      <th>718019</th>\n",
       "      <td>PD201800783912</td>\n",
       "      <td>08/08/2018 10:15:20 AM</td>\n",
       "      <td>0</td>\n",
       "      <td>A</td>\n",
       "      <td>43</td>\n",
       "      <td>Want Officer for Investigation / Assistance</td>\n",
       "      <td>11</td>\n",
       "      <td>DISREGARD / SIGNAL 9</td>\n",
       "      <td>0.0</td>\n",
       "      <td>HIGHWAY 70&amp;CHEATHAM CO LINE</td>\n",
       "      <td>NaN</td>\n",
       "      <td>W</td>\n",
       "      <td>25</td>\n",
       "      <td>36.094</td>\n",
       "      <td>-87.038</td>\n",
       "      <td>POINT (-87.038 36.094)</td>\n",
       "      <td>37143</td>\n",
       "      <td>PEGRAM</td>\n",
       "    </tr>\n",
       "    <tr>\n",
       "      <th>718020</th>\n",
       "      <td>PD201800800491</td>\n",
       "      <td>08/13/2018 11:51:29 AM</td>\n",
       "      <td>20180693242</td>\n",
       "      <td>A</td>\n",
       "      <td>96</td>\n",
       "      <td>Business Check</td>\n",
       "      <td>4</td>\n",
       "      <td>ASSISTED CITIZEN</td>\n",
       "      <td>0.0</td>\n",
       "      <td>HIGHWAY 70&amp;CHEATHAM CO LINE</td>\n",
       "      <td>5252</td>\n",
       "      <td>W</td>\n",
       "      <td>23</td>\n",
       "      <td>36.094</td>\n",
       "      <td>-87.038</td>\n",
       "      <td>POINT (-87.038 36.094)</td>\n",
       "      <td>37143</td>\n",
       "      <td>PEGRAM</td>\n",
       "    </tr>\n",
       "  </tbody>\n",
       "</table>\n",
       "</div>"
      ],
      "text/plain": [
       "          Event Number           Call Received  Complaint Number Shift  \\\n",
       "718018  PD201800855208  08/29/2018 09:11:36 AM       20180740194     A   \n",
       "718019  PD201800783912  08/08/2018 10:15:20 AM                 0     A   \n",
       "718020  PD201800800491  08/13/2018 11:51:29 AM       20180693242     A   \n",
       "\n",
       "        Tencode                          Tencode Description  \\\n",
       "718018       45           Vehicle Accident - Property Damage   \n",
       "718019       43  Want Officer for Investigation / Assistance   \n",
       "718020       96                               Business Check   \n",
       "\n",
       "        Disposition Code Disposition Description   Block  \\\n",
       "718018                 1   M.P.D. REPORT COMPLED  6900.0   \n",
       "718019                11    DISREGARD / SIGNAL 9     0.0   \n",
       "718020                 4        ASSISTED CITIZEN     0.0   \n",
       "\n",
       "                        Street Name Unit Dispatched Sector Zone  Latitude  \\\n",
       "718018             NOLENSVILLE PKE             3T73      S   31    35.994   \n",
       "718019  HIGHWAY 70&CHEATHAM CO LINE             NaN      W   25    36.094   \n",
       "718020  HIGHWAY 70&CHEATHAM CO LINE            5252      W   23    36.094   \n",
       "\n",
       "        Longitude                geometry  zipcode         PO  \n",
       "718018    -86.685  POINT (-86.685 35.994)    37027  BRENTWOOD  \n",
       "718019    -87.038  POINT (-87.038 36.094)    37143     PEGRAM  \n",
       "718020    -87.038  POINT (-87.038 36.094)    37143     PEGRAM  "
      ]
     },
     "execution_count": 4,
     "metadata": {},
     "output_type": "execute_result"
    }
   ],
   "source": [
    "police_calls.tail(3)"
   ]
  },
  {
   "cell_type": "markdown",
   "id": "0cf74462",
   "metadata": {},
   "source": [
    "# 2c. How many rows and columns does *police_calls* contain?\n",
    "> Use __.shape__ to find # of rows and columns."
   ]
  },
  {
   "cell_type": "code",
   "execution_count": 5,
   "id": "b9560acd",
   "metadata": {},
   "outputs": [
    {
     "data": {
      "text/plain": [
       "(718021, 18)"
      ]
     },
     "execution_count": 5,
     "metadata": {},
     "output_type": "execute_result"
    }
   ],
   "source": [
    "police_calls.shape"
   ]
  },
  {
   "cell_type": "markdown",
   "id": "204b3cf7",
   "metadata": {},
   "source": [
    "***\n",
    "# 3. Keep just these columns:\n",
    "<mark>a. 'Call Received'<br>\n",
    "b. 'Shift'<br>\n",
    "c. 'Tencode'<br>\n",
    "d. 'Tencode Description'<br>\n",
    "e. 'Disposition Code'<br>\n",
    "f. 'Disposition Description'<br>\n",
    "g. 'Unit Dispatched'<br>\n",
    "h. 'Sector'<br>\n",
    "i. 'Zone'<br>\n",
    "j. 'Latitude'<br>\n",
    "k. 'Longitude'<br>\n",
    "l. 'zipcode'<br>\n",
    "m. 'PO'<br></mark>"
   ]
  },
  {
   "cell_type": "markdown",
   "id": "6baa20dc",
   "metadata": {},
   "source": [
    "### (optional) List the columns."
   ]
  },
  {
   "cell_type": "code",
   "execution_count": 6,
   "id": "b03b795d",
   "metadata": {},
   "outputs": [
    {
     "data": {
      "text/plain": [
       "Index(['Event Number', 'Call Received', 'Complaint Number', 'Shift', 'Tencode',\n",
       "       'Tencode Description', 'Disposition Code', 'Disposition Description',\n",
       "       'Block', 'Street Name', 'Unit Dispatched', 'Sector', 'Zone', 'Latitude',\n",
       "       'Longitude', 'geometry', 'zipcode', 'PO'],\n",
       "      dtype='object')"
      ]
     },
     "execution_count": 6,
     "metadata": {},
     "output_type": "execute_result"
    }
   ],
   "source": [
    "police_calls.columns"
   ]
  },
  {
   "cell_type": "markdown",
   "id": "21607ddc",
   "metadata": {},
   "source": [
    "### Slice the columns.\n",
    "> Passing a list of columns to slice from the DataFrame (double brackets) returns a DataFrame with just those columns.<br>\n",
    "> Use the __.head()__ to check."
   ]
  },
  {
   "cell_type": "code",
   "execution_count": 7,
   "id": "dfc1323f",
   "metadata": {},
   "outputs": [
    {
     "data": {
      "text/html": [
       "<div>\n",
       "<style scoped>\n",
       "    .dataframe tbody tr th:only-of-type {\n",
       "        vertical-align: middle;\n",
       "    }\n",
       "\n",
       "    .dataframe tbody tr th {\n",
       "        vertical-align: top;\n",
       "    }\n",
       "\n",
       "    .dataframe thead th {\n",
       "        text-align: right;\n",
       "    }\n",
       "</style>\n",
       "<table border=\"1\" class=\"dataframe\">\n",
       "  <thead>\n",
       "    <tr style=\"text-align: right;\">\n",
       "      <th></th>\n",
       "      <th>Call Received</th>\n",
       "      <th>Shift</th>\n",
       "      <th>Tencode</th>\n",
       "      <th>Tencode Description</th>\n",
       "      <th>Disposition Code</th>\n",
       "      <th>Disposition Description</th>\n",
       "      <th>Unit Dispatched</th>\n",
       "      <th>Sector</th>\n",
       "      <th>Zone</th>\n",
       "      <th>Latitude</th>\n",
       "      <th>Longitude</th>\n",
       "      <th>zipcode</th>\n",
       "      <th>PO</th>\n",
       "    </tr>\n",
       "  </thead>\n",
       "  <tbody>\n",
       "    <tr>\n",
       "      <th>0</th>\n",
       "      <td>02/16/2018 07:09:00 PM</td>\n",
       "      <td>B</td>\n",
       "      <td>93</td>\n",
       "      <td>Traffic Violation</td>\n",
       "      <td>3</td>\n",
       "      <td>CITATION - TRAFFIC</td>\n",
       "      <td>521B</td>\n",
       "      <td>H</td>\n",
       "      <td>23</td>\n",
       "      <td>36.210</td>\n",
       "      <td>-86.600</td>\n",
       "      <td>37076</td>\n",
       "      <td>HERMITAGE</td>\n",
       "    </tr>\n",
       "    <tr>\n",
       "      <th>1</th>\n",
       "      <td>02/16/2018 08:02:00 PM</td>\n",
       "      <td>B</td>\n",
       "      <td>93</td>\n",
       "      <td>Traffic Violation</td>\n",
       "      <td>9</td>\n",
       "      <td>SUBJECT WARNED</td>\n",
       "      <td>5F34</td>\n",
       "      <td>H</td>\n",
       "      <td>21</td>\n",
       "      <td>36.169</td>\n",
       "      <td>-86.601</td>\n",
       "      <td>37076</td>\n",
       "      <td>HERMITAGE</td>\n",
       "    </tr>\n",
       "  </tbody>\n",
       "</table>\n",
       "</div>"
      ],
      "text/plain": [
       "            Call Received Shift  Tencode Tencode Description  \\\n",
       "0  02/16/2018 07:09:00 PM     B       93   Traffic Violation   \n",
       "1  02/16/2018 08:02:00 PM     B       93   Traffic Violation   \n",
       "\n",
       "   Disposition Code Disposition Description Unit Dispatched Sector Zone  \\\n",
       "0                 3      CITATION - TRAFFIC            521B      H   23   \n",
       "1                 9          SUBJECT WARNED            5F34      H   21   \n",
       "\n",
       "   Latitude  Longitude  zipcode         PO  \n",
       "0    36.210    -86.600    37076  HERMITAGE  \n",
       "1    36.169    -86.601    37076  HERMITAGE  "
      ]
     },
     "execution_count": 7,
     "metadata": {},
     "output_type": "execute_result"
    }
   ],
   "source": [
    "police_calls = police_calls[['Call Received',\n",
    "                             'Shift',\n",
    "                             'Tencode',\n",
    "                             'Tencode Description',\n",
    "                             'Disposition Code',\n",
    "                             'Disposition Description',\n",
    "                             'Unit Dispatched',\n",
    "                             'Sector',\n",
    "                             'Zone',\n",
    "                             'Latitude',\n",
    "                             'Longitude',\n",
    "                             'zipcode',\n",
    "                             'PO']]\n",
    "police_calls.head(2)"
   ]
  },
  {
   "cell_type": "markdown",
   "id": "a6bd0f1f",
   "metadata": {},
   "source": [
    "***\n",
    "# 4. Rename the columns.\n",
    "> Then use the __.head()__ to check."
   ]
  },
  {
   "cell_type": "code",
   "execution_count": 8,
   "id": "c4f536af",
   "metadata": {},
   "outputs": [
    {
     "data": {
      "text/html": [
       "<div>\n",
       "<style scoped>\n",
       "    .dataframe tbody tr th:only-of-type {\n",
       "        vertical-align: middle;\n",
       "    }\n",
       "\n",
       "    .dataframe tbody tr th {\n",
       "        vertical-align: top;\n",
       "    }\n",
       "\n",
       "    .dataframe thead th {\n",
       "        text-align: right;\n",
       "    }\n",
       "</style>\n",
       "<table border=\"1\" class=\"dataframe\">\n",
       "  <thead>\n",
       "    <tr style=\"text-align: right;\">\n",
       "      <th></th>\n",
       "      <th>call_time</th>\n",
       "      <th>shift</th>\n",
       "      <th>tencode</th>\n",
       "      <th>tencode_desc</th>\n",
       "      <th>disposition</th>\n",
       "      <th>disposition_desc</th>\n",
       "      <th>unit_dispatched</th>\n",
       "      <th>sector</th>\n",
       "      <th>zone</th>\n",
       "      <th>lat</th>\n",
       "      <th>lng</th>\n",
       "      <th>zipcode</th>\n",
       "      <th>po</th>\n",
       "    </tr>\n",
       "  </thead>\n",
       "  <tbody>\n",
       "    <tr>\n",
       "      <th>0</th>\n",
       "      <td>02/16/2018 07:09:00 PM</td>\n",
       "      <td>B</td>\n",
       "      <td>93</td>\n",
       "      <td>Traffic Violation</td>\n",
       "      <td>3</td>\n",
       "      <td>CITATION - TRAFFIC</td>\n",
       "      <td>521B</td>\n",
       "      <td>H</td>\n",
       "      <td>23</td>\n",
       "      <td>36.210</td>\n",
       "      <td>-86.600</td>\n",
       "      <td>37076</td>\n",
       "      <td>HERMITAGE</td>\n",
       "    </tr>\n",
       "    <tr>\n",
       "      <th>1</th>\n",
       "      <td>02/16/2018 08:02:00 PM</td>\n",
       "      <td>B</td>\n",
       "      <td>93</td>\n",
       "      <td>Traffic Violation</td>\n",
       "      <td>9</td>\n",
       "      <td>SUBJECT WARNED</td>\n",
       "      <td>5F34</td>\n",
       "      <td>H</td>\n",
       "      <td>21</td>\n",
       "      <td>36.169</td>\n",
       "      <td>-86.601</td>\n",
       "      <td>37076</td>\n",
       "      <td>HERMITAGE</td>\n",
       "    </tr>\n",
       "  </tbody>\n",
       "</table>\n",
       "</div>"
      ],
      "text/plain": [
       "                call_time shift  tencode       tencode_desc  disposition  \\\n",
       "0  02/16/2018 07:09:00 PM     B       93  Traffic Violation            3   \n",
       "1  02/16/2018 08:02:00 PM     B       93  Traffic Violation            9   \n",
       "\n",
       "     disposition_desc unit_dispatched sector zone     lat     lng  zipcode  \\\n",
       "0  CITATION - TRAFFIC            521B      H   23  36.210 -86.600    37076   \n",
       "1      SUBJECT WARNED            5F34      H   21  36.169 -86.601    37076   \n",
       "\n",
       "          po  \n",
       "0  HERMITAGE  \n",
       "1  HERMITAGE  "
      ]
     },
     "execution_count": 8,
     "metadata": {},
     "output_type": "execute_result"
    }
   ],
   "source": [
    "police_calls = police_calls.rename(columns = {\n",
    "    'Call Received' : 'call_time',\n",
    "    'Shift' : 'shift',\n",
    "    'Tencode' : 'tencode',\n",
    "    'Tencode Description' : 'tencode_desc',\n",
    "    'Disposition Code' : 'disposition',\n",
    "    'Disposition Description' : 'disposition_desc',\n",
    "    'Unit Dispatched' : 'unit_dispatched',\n",
    "    'Sector' : 'sector',\n",
    "    'Zone' : 'zone',\n",
    "    'Latitude' : 'lat',\n",
    "    'Longitude' : 'lng',\n",
    "    'zipcode' : 'zipcode',\n",
    "    'PO': 'po'\n",
    "})\n",
    "police_calls.head(2)"
   ]
  },
  {
   "cell_type": "markdown",
   "id": "1e1564d9",
   "metadata": {},
   "source": [
    "***\n",
    "# 5. What are the unique disposition descriptions?\n",
    "> Use __.unique()__ to list all the unique values."
   ]
  },
  {
   "cell_type": "code",
   "execution_count": 9,
   "id": "15637cbe",
   "metadata": {},
   "outputs": [
    {
     "data": {
      "text/plain": [
       "array(['CITATION - TRAFFIC', 'SUBJECT WARNED', 'ASSISTED OTHER UNIT',\n",
       "       'GONE ON ARRIVAL', 'ASSISTED CITIZEN', 'COMMUNITY POLICING',\n",
       "       'LOCATION/BUILDING SECURE', 'DISREGARD / SIGNAL 9',\n",
       "       'M.P.D. REPORT COMPLED', 'ADVISED IN CIVIL CASE', 'FALSE CALL',\n",
       "       'NO RESPONSE', 'ARREST, CUSTODIAL OR CITATION',\n",
       "       'ASSISTANCE REFUSED', 'ADVISORY / NOTICE FORM GIVEN', nan],\n",
       "      dtype=object)"
      ]
     },
     "execution_count": 9,
     "metadata": {},
     "output_type": "execute_result"
    }
   ],
   "source": [
    "police_calls['disposition_desc'].unique()"
   ]
  },
  {
   "cell_type": "markdown",
   "id": "7af29e7e",
   "metadata": {},
   "source": [
    "***\n",
    "# 6. Remove all rows from *police_calls* where the disposition description is:\n",
    "- missing (nan)\n",
    "- or DISREGARD / SIGNAL 9\n",
    "- or NO RESPONSE. <br>\n",
    "Check to see that you have 624841 rows remaining."
   ]
  },
  {
   "cell_type": "markdown",
   "id": "2643bef1",
   "metadata": {},
   "source": [
    "> Using __.loc[ ]__, remove the nan (null) values -- <br>\n",
    "> Detect missing values with __isna()__. (https://pandas.pydata.org/docs/reference/api/pandas.DataFrame.html)"
   ]
  },
  {
   "cell_type": "code",
   "execution_count": 10,
   "id": "c3b89248",
   "metadata": {},
   "outputs": [],
   "source": [
    "police_calls = police_calls.loc[~police_calls.disposition_desc.isna()]"
   ]
  },
  {
   "cell_type": "markdown",
   "id": "839b90e9",
   "metadata": {},
   "source": [
    "> Use __.unique()__ to confirm the null values were removed."
   ]
  },
  {
   "cell_type": "code",
   "execution_count": 11,
   "id": "2738f531",
   "metadata": {},
   "outputs": [
    {
     "data": {
      "text/plain": [
       "array(['CITATION - TRAFFIC', 'SUBJECT WARNED', 'ASSISTED OTHER UNIT',\n",
       "       'GONE ON ARRIVAL', 'ASSISTED CITIZEN', 'COMMUNITY POLICING',\n",
       "       'LOCATION/BUILDING SECURE', 'DISREGARD / SIGNAL 9',\n",
       "       'M.P.D. REPORT COMPLED', 'ADVISED IN CIVIL CASE', 'FALSE CALL',\n",
       "       'NO RESPONSE', 'ARREST, CUSTODIAL OR CITATION',\n",
       "       'ASSISTANCE REFUSED', 'ADVISORY / NOTICE FORM GIVEN'], dtype=object)"
      ]
     },
     "execution_count": 11,
     "metadata": {},
     "output_type": "execute_result"
    }
   ],
   "source": [
    "police_calls['disposition_desc'].unique()"
   ]
  },
  {
   "cell_type": "markdown",
   "id": "77c78ac5",
   "metadata": {},
   "source": [
    "> Alternatively, use __.isna()__ to confirm there are no null values left."
   ]
  },
  {
   "cell_type": "code",
   "execution_count": 12,
   "id": "c50f3407",
   "metadata": {},
   "outputs": [
    {
     "data": {
      "text/plain": [
       "0         False\n",
       "1         False\n",
       "2         False\n",
       "3         False\n",
       "4         False\n",
       "          ...  \n",
       "718016    False\n",
       "718017    False\n",
       "718018    False\n",
       "718019    False\n",
       "718020    False\n",
       "Name: disposition_desc, Length: 717888, dtype: bool"
      ]
     },
     "execution_count": 12,
     "metadata": {},
     "output_type": "execute_result"
    }
   ],
   "source": [
    "police_calls.disposition_desc.isna()"
   ]
  },
  {
   "cell_type": "markdown",
   "id": "64f406d9",
   "metadata": {},
   "source": [
    "> Or we could even use __.info()__ to check for null values."
   ]
  },
  {
   "cell_type": "code",
   "execution_count": 13,
   "id": "7f8c730e",
   "metadata": {},
   "outputs": [
    {
     "name": "stdout",
     "output_type": "stream",
     "text": [
      "<class 'pandas.core.series.Series'>\n",
      "Int64Index: 717888 entries, 0 to 718020\n",
      "Series name: disposition_desc\n",
      "Non-Null Count   Dtype \n",
      "--------------   ----- \n",
      "717888 non-null  object\n",
      "dtypes: object(1)\n",
      "memory usage: 11.0+ MB\n"
     ]
    }
   ],
   "source": [
    "police_calls.disposition_desc.info()"
   ]
  },
  {
   "cell_type": "markdown",
   "id": "6f2436a4",
   "metadata": {},
   "source": [
    "> Next, using __.loc[ ]__ to remove the 'DISREGARD / SIGNAL 9' and 'NO RESPONSE' values."
   ]
  },
  {
   "cell_type": "code",
   "execution_count": 14,
   "id": "35c41293",
   "metadata": {},
   "outputs": [],
   "source": [
    "police_calls = police_calls.loc[~police_calls.disposition_desc.isin(['DISREGARD / SIGNAL 9','NO RESPONSE'])]"
   ]
  },
  {
   "cell_type": "markdown",
   "id": "f8b4116e",
   "metadata": {},
   "source": [
    "> Use __.unique()__ to confirm those values were removed."
   ]
  },
  {
   "cell_type": "code",
   "execution_count": 15,
   "id": "7a822957",
   "metadata": {},
   "outputs": [
    {
     "data": {
      "text/plain": [
       "array(['CITATION - TRAFFIC', 'SUBJECT WARNED', 'ASSISTED OTHER UNIT',\n",
       "       'GONE ON ARRIVAL', 'ASSISTED CITIZEN', 'COMMUNITY POLICING',\n",
       "       'LOCATION/BUILDING SECURE', 'M.P.D. REPORT COMPLED',\n",
       "       'ADVISED IN CIVIL CASE', 'FALSE CALL',\n",
       "       'ARREST, CUSTODIAL OR CITATION', 'ASSISTANCE REFUSED',\n",
       "       'ADVISORY / NOTICE FORM GIVEN'], dtype=object)"
      ]
     },
     "execution_count": 15,
     "metadata": {},
     "output_type": "execute_result"
    }
   ],
   "source": [
    "police_calls['disposition_desc'].unique()"
   ]
  },
  {
   "cell_type": "markdown",
   "id": "3fa6a858",
   "metadata": {},
   "source": [
    "> Alternatively, use __value_counts()__ to see the values left in list form."
   ]
  },
  {
   "cell_type": "code",
   "execution_count": 16,
   "id": "e012534f",
   "metadata": {},
   "outputs": [
    {
     "data": {
      "text/plain": [
       "SUBJECT WARNED                   125522\n",
       "LOCATION/BUILDING SECURE         120687\n",
       "ASSISTED CITIZEN                 106585\n",
       "COMMUNITY POLICING                80287\n",
       "ASSISTED OTHER UNIT               55071\n",
       "GONE ON ARRIVAL                   45375\n",
       "M.P.D. REPORT COMPLED             41708\n",
       "CITATION - TRAFFIC                30390\n",
       "ARREST, CUSTODIAL OR CITATION      8408\n",
       "FALSE CALL                         6767\n",
       "ASSISTANCE REFUSED                 1960\n",
       "ADVISED IN CIVIL CASE              1377\n",
       "ADVISORY / NOTICE FORM GIVEN        704\n",
       "Name: disposition_desc, dtype: int64"
      ]
     },
     "execution_count": 16,
     "metadata": {},
     "output_type": "execute_result"
    }
   ],
   "source": [
    "police_calls.disposition_desc.value_counts()"
   ]
  },
  {
   "cell_type": "markdown",
   "id": "987de6dd",
   "metadata": {},
   "source": [
    "> Confirm with __.shape__ that there are only 624841 rows remaining."
   ]
  },
  {
   "cell_type": "code",
   "execution_count": 17,
   "id": "ca3eecdb",
   "metadata": {},
   "outputs": [
    {
     "data": {
      "text/plain": [
       "(624841, 13)"
      ]
     },
     "execution_count": 17,
     "metadata": {},
     "output_type": "execute_result"
    }
   ],
   "source": [
    "police_calls.shape"
   ]
  },
  {
   "cell_type": "markdown",
   "id": "e2a57879",
   "metadata": {},
   "source": [
    "***\n",
    "# 7. Create a dataframe from the *tencode_desc* value counts called *tencode_counts*.\n",
    "- It should have two columns called __tencode__ and __tencode_count__."
   ]
  },
  {
   "cell_type": "code",
   "execution_count": 35,
   "id": "68fbe506",
   "metadata": {},
   "outputs": [],
   "source": [
    "tencode_counts = police_calls.value_counts(subset=['tencode','tencode_desc'])"
   ]
  },
  {
   "cell_type": "code",
   "execution_count": 38,
   "id": "092d7813",
   "metadata": {},
   "outputs": [
    {
     "data": {
      "text/html": [
       "<div>\n",
       "<style scoped>\n",
       "    .dataframe tbody tr th:only-of-type {\n",
       "        vertical-align: middle;\n",
       "    }\n",
       "\n",
       "    .dataframe tbody tr th {\n",
       "        vertical-align: top;\n",
       "    }\n",
       "\n",
       "    .dataframe thead th {\n",
       "        text-align: right;\n",
       "    }\n",
       "</style>\n",
       "<table border=\"1\" class=\"dataframe\">\n",
       "  <thead>\n",
       "    <tr style=\"text-align: right;\">\n",
       "      <th></th>\n",
       "      <th></th>\n",
       "      <th>0</th>\n",
       "    </tr>\n",
       "    <tr>\n",
       "      <th>tencode</th>\n",
       "      <th>tencode_desc</th>\n",
       "      <th></th>\n",
       "    </tr>\n",
       "  </thead>\n",
       "  <tbody>\n",
       "    <tr>\n",
       "      <th>96</th>\n",
       "      <th>Business Check</th>\n",
       "      <td>154763</td>\n",
       "    </tr>\n",
       "    <tr>\n",
       "      <th>93</th>\n",
       "      <th>Traffic Violation</th>\n",
       "      <td>141283</td>\n",
       "    </tr>\n",
       "    <tr>\n",
       "      <th>43</th>\n",
       "      <th>Want Officer for Investigation / Assistance</th>\n",
       "      <td>100465</td>\n",
       "    </tr>\n",
       "    <tr>\n",
       "      <th>3</th>\n",
       "      <th>Administrative/Special Assignment</th>\n",
       "      <td>34094</td>\n",
       "    </tr>\n",
       "    <tr>\n",
       "      <th>15</th>\n",
       "      <th>Community Policing Activity</th>\n",
       "      <td>34001</td>\n",
       "    </tr>\n",
       "    <tr>\n",
       "      <th>40</th>\n",
       "      <th>Suspicious Person</th>\n",
       "      <td>26602</td>\n",
       "    </tr>\n",
       "    <tr>\n",
       "      <th>44</th>\n",
       "      <th>Disorderly Person</th>\n",
       "      <td>22120</td>\n",
       "    </tr>\n",
       "    <tr>\n",
       "      <th>45</th>\n",
       "      <th>Vehicle Accident - Property Damage</th>\n",
       "      <td>21624</td>\n",
       "    </tr>\n",
       "    <tr>\n",
       "      <th>87</th>\n",
       "      <th>Safety Hazard</th>\n",
       "      <td>18845</td>\n",
       "    </tr>\n",
       "    <tr>\n",
       "      <th>50</th>\n",
       "      <th>Theft</th>\n",
       "      <td>11656</td>\n",
       "    </tr>\n",
       "    <tr>\n",
       "      <th>71</th>\n",
       "      <th>Burglary - Non-Residence</th>\n",
       "      <td>11300</td>\n",
       "    </tr>\n",
       "    <tr>\n",
       "      <th>70</th>\n",
       "      <th>Burglary - Residence</th>\n",
       "      <td>10081</td>\n",
       "    </tr>\n",
       "    <tr>\n",
       "      <th>49</th>\n",
       "      <th>Vehicle Blocking Right of Way</th>\n",
       "      <td>6781</td>\n",
       "    </tr>\n",
       "    <tr>\n",
       "      <th>88</th>\n",
       "      <th>Investigate 911 Hang-Up Call</th>\n",
       "      <td>6017</td>\n",
       "    </tr>\n",
       "    <tr>\n",
       "      <th>46</th>\n",
       "      <th>Vehicle Accident - Personal Injury</th>\n",
       "      <td>3751</td>\n",
       "    </tr>\n",
       "    <tr>\n",
       "      <th>57</th>\n",
       "      <th>Fight / Assault</th>\n",
       "      <td>3273</td>\n",
       "    </tr>\n",
       "    <tr>\n",
       "      <th>92</th>\n",
       "      <th>Fixed Post</th>\n",
       "      <td>2635</td>\n",
       "    </tr>\n",
       "    <tr>\n",
       "      <th>95</th>\n",
       "      <th>Meal Break</th>\n",
       "      <td>2498</td>\n",
       "    </tr>\n",
       "    <tr>\n",
       "      <th>83</th>\n",
       "      <th>Shots Fired</th>\n",
       "      <td>1925</td>\n",
       "    </tr>\n",
       "    <tr>\n",
       "      <th>16</th>\n",
       "      <th>Transport Prisoner / Suspect</th>\n",
       "      <td>1687</td>\n",
       "    </tr>\n",
       "    <tr>\n",
       "      <th>42</th>\n",
       "      <th>Intoxicated Person</th>\n",
       "      <td>1496</td>\n",
       "    </tr>\n",
       "    <tr>\n",
       "      <th>75</th>\n",
       "      <th>Missing Person</th>\n",
       "      <td>1496</td>\n",
       "    </tr>\n",
       "    <tr>\n",
       "      <th>65</th>\n",
       "      <th>Dangerous / Injured Animal</th>\n",
       "      <td>1100</td>\n",
       "    </tr>\n",
       "    <tr>\n",
       "      <th>63</th>\n",
       "      <th>Suicidal Person</th>\n",
       "      <td>1029</td>\n",
       "    </tr>\n",
       "    <tr>\n",
       "      <th>54</th>\n",
       "      <th>Person with Weapon</th>\n",
       "      <td>864</td>\n",
       "    </tr>\n",
       "    <tr>\n",
       "      <th>53</th>\n",
       "      <th>Holdup / Robbery</th>\n",
       "      <td>666</td>\n",
       "    </tr>\n",
       "    <tr>\n",
       "      <th>59</th>\n",
       "      <th>Person Indecently Exposed</th>\n",
       "      <td>605</td>\n",
       "    </tr>\n",
       "    <tr>\n",
       "      <th>14</th>\n",
       "      <th>Escort / Convoy</th>\n",
       "      <td>337</td>\n",
       "    </tr>\n",
       "    <tr>\n",
       "      <th>62</th>\n",
       "      <th>Person Screaming</th>\n",
       "      <td>322</td>\n",
       "    </tr>\n",
       "    <tr>\n",
       "      <th>58</th>\n",
       "      <th>Prowler</th>\n",
       "      <td>274</td>\n",
       "    </tr>\n",
       "    <tr>\n",
       "      <th>35</th>\n",
       "      <th>Mentally ILL Person</th>\n",
       "      <td>260</td>\n",
       "    </tr>\n",
       "    <tr>\n",
       "      <th>61</th>\n",
       "      <th>Fire</th>\n",
       "      <td>233</td>\n",
       "    </tr>\n",
       "    <tr>\n",
       "      <th>94</th>\n",
       "      <th>Personal Relief</th>\n",
       "      <td>217</td>\n",
       "    </tr>\n",
       "    <tr>\n",
       "      <th>64</th>\n",
       "      <th>Corpse / D. O. A.</th>\n",
       "      <td>178</td>\n",
       "    </tr>\n",
       "    <tr>\n",
       "      <th>52</th>\n",
       "      <th>Shooting</th>\n",
       "      <td>122</td>\n",
       "    </tr>\n",
       "    <tr>\n",
       "      <th>73</th>\n",
       "      <th>Hazardous Liquid / Gas Leak</th>\n",
       "      <td>69</td>\n",
       "    </tr>\n",
       "    <tr>\n",
       "      <th>68</th>\n",
       "      <th>Kidnapping</th>\n",
       "      <td>43</td>\n",
       "    </tr>\n",
       "    <tr>\n",
       "      <th>51</th>\n",
       "      <th>Cutting / Stabbing</th>\n",
       "      <td>37</td>\n",
       "    </tr>\n",
       "    <tr>\n",
       "      <th>77</th>\n",
       "      <th>Gang Activity</th>\n",
       "      <td>24</td>\n",
       "    </tr>\n",
       "    <tr>\n",
       "      <th>1000</th>\n",
       "      <th>Bank Robbery</th>\n",
       "      <td>16</td>\n",
       "    </tr>\n",
       "    <tr>\n",
       "      <th>8000</th>\n",
       "      <th>Explosion</th>\n",
       "      <td>16</td>\n",
       "    </tr>\n",
       "    <tr>\n",
       "      <th>66</th>\n",
       "      <th>Bomb Threat</th>\n",
       "      <td>9</td>\n",
       "    </tr>\n",
       "    <tr>\n",
       "      <th>3000</th>\n",
       "      <th>Barricaded Suspect</th>\n",
       "      <td>8</td>\n",
       "    </tr>\n",
       "    <tr>\n",
       "      <th>85</th>\n",
       "      <th>Prisoner Escapee</th>\n",
       "      <td>5</td>\n",
       "    </tr>\n",
       "    <tr>\n",
       "      <th>79</th>\n",
       "      <th>Occult Activity</th>\n",
       "      <td>4</td>\n",
       "    </tr>\n",
       "    <tr>\n",
       "      <th>89</th>\n",
       "      <th>Drowning</th>\n",
       "      <td>3</td>\n",
       "    </tr>\n",
       "    <tr>\n",
       "      <th>5000</th>\n",
       "      <th>Personnel in Serious Danger</th>\n",
       "      <td>3</td>\n",
       "    </tr>\n",
       "    <tr>\n",
       "      <th>6000</th>\n",
       "      <th>Riot / Disorderly Crowd</th>\n",
       "      <td>3</td>\n",
       "    </tr>\n",
       "    <tr>\n",
       "      <th>9000</th>\n",
       "      <th>Active Aggressor</th>\n",
       "      <td>1</td>\n",
       "    </tr>\n",
       "  </tbody>\n",
       "</table>\n",
       "</div>"
      ],
      "text/plain": [
       "                                                          0\n",
       "tencode tencode_desc                                       \n",
       "96      Business Check                               154763\n",
       "93      Traffic Violation                            141283\n",
       "43      Want Officer for Investigation / Assistance  100465\n",
       "3       Administrative/Special Assignment             34094\n",
       "15      Community Policing Activity                   34001\n",
       "40      Suspicious Person                             26602\n",
       "44      Disorderly Person                             22120\n",
       "45      Vehicle Accident - Property Damage            21624\n",
       "87      Safety Hazard                                 18845\n",
       "50      Theft                                         11656\n",
       "71      Burglary - Non-Residence                      11300\n",
       "70      Burglary - Residence                          10081\n",
       "49      Vehicle Blocking Right of Way                  6781\n",
       "88      Investigate 911 Hang-Up Call                   6017\n",
       "46      Vehicle Accident - Personal Injury             3751\n",
       "57      Fight / Assault                                3273\n",
       "92      Fixed Post                                     2635\n",
       "95      Meal Break                                     2498\n",
       "83      Shots Fired                                    1925\n",
       "16      Transport Prisoner / Suspect                   1687\n",
       "42      Intoxicated Person                             1496\n",
       "75      Missing Person                                 1496\n",
       "65      Dangerous / Injured Animal                     1100\n",
       "63      Suicidal Person                                1029\n",
       "54      Person with Weapon                              864\n",
       "53      Holdup / Robbery                                666\n",
       "59      Person Indecently Exposed                       605\n",
       "14      Escort / Convoy                                 337\n",
       "62      Person Screaming                                322\n",
       "58      Prowler                                         274\n",
       "35      Mentally ILL Person                             260\n",
       "61      Fire                                            233\n",
       "94      Personal Relief                                 217\n",
       "64      Corpse / D. O. A.                               178\n",
       "52      Shooting                                        122\n",
       "73      Hazardous Liquid / Gas Leak                      69\n",
       "68      Kidnapping                                       43\n",
       "51      Cutting / Stabbing                               37\n",
       "77      Gang Activity                                    24\n",
       "1000    Bank Robbery                                     16\n",
       "8000    Explosion                                        16\n",
       "66      Bomb Threat                                       9\n",
       "3000    Barricaded Suspect                                8\n",
       "85      Prisoner Escapee                                  5\n",
       "79      Occult Activity                                   4\n",
       "89      Drowning                                          3\n",
       "5000    Personnel in Serious Danger                       3\n",
       "6000    Riot / Disorderly Crowd                           3\n",
       "9000    Active Aggressor                                  1"
      ]
     },
     "execution_count": 38,
     "metadata": {},
     "output_type": "execute_result"
    }
   ],
   "source": [
    "tencode_counts.to_frame()"
   ]
  },
  {
   "cell_type": "code",
   "execution_count": 39,
   "id": "dddfd0a8",
   "metadata": {},
   "outputs": [
    {
     "ename": "TypeError",
     "evalue": "rename() got an unexpected keyword argument 'columns'",
     "output_type": "error",
     "traceback": [
      "\u001b[0;31m---------------------------------------------------------------------------\u001b[0m",
      "\u001b[0;31mTypeError\u001b[0m                                 Traceback (most recent call last)",
      "Input \u001b[0;32mIn [39]\u001b[0m, in \u001b[0;36m<cell line: 1>\u001b[0;34m()\u001b[0m\n\u001b[0;32m----> 1\u001b[0m tencode_counts \u001b[38;5;241m=\u001b[39m \u001b[43mtencode_counts\u001b[49m\u001b[38;5;241;43m.\u001b[39;49m\u001b[43mrename\u001b[49m\u001b[43m(\u001b[49m\u001b[43mcolumns\u001b[49m\u001b[38;5;241;43m=\u001b[39;49m\u001b[43m{\u001b[49m\u001b[38;5;241;43m0\u001b[39;49m\u001b[43m:\u001b[49m\u001b[38;5;124;43m'\u001b[39;49m\u001b[38;5;124;43mitem\u001b[39;49m\u001b[38;5;124;43m'\u001b[39;49m\u001b[43m}\u001b[49m\u001b[43m)\u001b[49m\n",
      "\u001b[0;31mTypeError\u001b[0m: rename() got an unexpected keyword argument 'columns'"
     ]
    }
   ],
   "source": [
    "tencode_counts = tencode_counts.rename(columns={0:'item'})"
   ]
  },
  {
   "cell_type": "code",
   "execution_count": 30,
   "id": "8dddfdf7",
   "metadata": {},
   "outputs": [
    {
     "data": {
      "text/plain": [
       "tencode  tencode_desc  \n",
       "96       Business Check    154763\n",
       "dtype: int64"
      ]
     },
     "execution_count": 30,
     "metadata": {},
     "output_type": "execute_result"
    }
   ],
   "source": [
    "tencode_counts = tencode_counts.drop(columns = ['tencode'])\n",
    "tencode_counts.head(1)"
   ]
  },
  {
   "cell_type": "code",
   "execution_count": 29,
   "id": "bff85f53",
   "metadata": {},
   "outputs": [
    {
     "ename": "TypeError",
     "evalue": "rename() got an unexpected keyword argument 'columns'",
     "output_type": "error",
     "traceback": [
      "\u001b[0;31m---------------------------------------------------------------------------\u001b[0m",
      "\u001b[0;31mTypeError\u001b[0m                                 Traceback (most recent call last)",
      "Input \u001b[0;32mIn [29]\u001b[0m, in \u001b[0;36m<cell line: 1>\u001b[0;34m()\u001b[0m\n\u001b[0;32m----> 1\u001b[0m tencode_counts \u001b[38;5;241m=\u001b[39m \u001b[43mtencode_counts\u001b[49m\u001b[38;5;241;43m.\u001b[39;49m\u001b[43mrename\u001b[49m\u001b[43m(\u001b[49m\u001b[43mcolumns\u001b[49m\u001b[43m \u001b[49m\u001b[38;5;241;43m=\u001b[39;49m\u001b[43m \u001b[49m\u001b[43m{\u001b[49m\n\u001b[1;32m      2\u001b[0m \u001b[43m    \u001b[49m\u001b[38;5;124;43m'\u001b[39;49m\u001b[38;5;124;43mtencode_desc\u001b[39;49m\u001b[38;5;124;43m'\u001b[39;49m\u001b[43m \u001b[49m\u001b[43m:\u001b[49m\u001b[43m \u001b[49m\u001b[38;5;124;43m'\u001b[39;49m\u001b[38;5;124;43mtencode\u001b[39;49m\u001b[38;5;124;43m'\u001b[39;49m\u001b[43m,\u001b[49m\n\u001b[1;32m      3\u001b[0m \u001b[43m}\u001b[49m\u001b[43m)\u001b[49m\n\u001b[1;32m      4\u001b[0m police_calls\u001b[38;5;241m.\u001b[39mhead(\u001b[38;5;241m2\u001b[39m)\n",
      "\u001b[0;31mTypeError\u001b[0m: rename() got an unexpected keyword argument 'columns'"
     ]
    }
   ],
   "source": [
    "tencode_counts = tencode_counts.rename(columns = {\n",
    "    'tencode_desc' : 'tencode',\n",
    "})\n",
    "police_calls.head(2)"
   ]
  }
 ],
 "metadata": {
  "kernelspec": {
   "display_name": "Python 3 (ipykernel)",
   "language": "python",
   "name": "python3"
  },
  "language_info": {
   "codemirror_mode": {
    "name": "ipython",
    "version": 3
   },
   "file_extension": ".py",
   "mimetype": "text/x-python",
   "name": "python",
   "nbconvert_exporter": "python",
   "pygments_lexer": "ipython3",
   "version": "3.9.12"
  }
 },
 "nbformat": 4,
 "nbformat_minor": 5
}
