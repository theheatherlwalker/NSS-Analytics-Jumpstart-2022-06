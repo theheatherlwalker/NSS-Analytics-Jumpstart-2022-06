{
 "cells": [
  {
   "cell_type": "code",
   "execution_count": 1,
   "id": "4c02001b",
   "metadata": {},
   "outputs": [],
   "source": [
    "#import librarires\n",
    "import numpy as np\n",
    "import pandas as pd\n",
    "import datetime\n",
    "\n",
    "import base64\n",
    "import json\n",
    "from urllib.request import urlopen, Request\n",
    "\n",
    "import requests\n",
    "\n",
    "import folium"
   ]
  },
  {
   "cell_type": "code",
   "execution_count": null,
   "id": "80f736e3",
   "metadata": {},
   "outputs": [],
   "source": []
  }
 ],
 "metadata": {
  "kernelspec": {
   "display_name": "Python 3 (ipykernel)",
   "language": "python",
   "name": "python3"
  },
  "language_info": {
   "codemirror_mode": {
    "name": "ipython",
    "version": 3
   },
   "file_extension": ".py",
   "mimetype": "text/x-python",
   "name": "python",
   "nbconvert_exporter": "python",
   "pygments_lexer": "ipython3",
   "version": "3.9.12"
  }
 },
 "nbformat": 4,
 "nbformat_minor": 5
}
