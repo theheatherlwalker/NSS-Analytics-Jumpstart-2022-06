{
 "cells": [
  {
   "cell_type": "markdown",
   "id": "ac29a132",
   "metadata": {},
   "source": [
    "# 1. Import the packages\n",
    "Import the packages by running the code below in a Jupyter notebook cell. If you decide to import additional packages over the next few weeks, be sure to add them to this cell. Also add the command that starts with % to the bottom of this cell. This is called a magic command and displays your plots in the notebook without having to also call a separate command.<br><br>\n",
    "<mark>import pandas as pd<br>\n",
    "import matplotlib.pyplot as plt<br>\n",
    "import seaborn as sns<br>\n",
    "import sqlite3 as sql<br>\n",
    "%matplotlib inline<br></mark>"
   ]
  },
  {
   "cell_type": "code",
   "execution_count": 1,
   "id": "4baf9ed7",
   "metadata": {},
   "outputs": [],
   "source": [
    "import pandas as pd\n",
    "import matplotlib.pyplot as plt\n",
    "import seaborn as sns\n",
    "import sqlite3 as sql\n",
    "%matplotlib inline"
   ]
  },
  {
   "cell_type": "markdown",
   "id": "cfc9feb5",
   "metadata": {},
   "source": [
    "<style>\n",
    ".alert-green {\n",
    "  color: rgb(60,118,61) !important;\n",
    "}\n",
    "</style>"
   ]
  },
  {
   "cell_type": "markdown",
   "id": "a6796a18",
   "metadata": {},
   "source": [
    "***\n",
    "# 2. Importing the data to a dataframe\n",
    "Read in the 2018 police calls data __police_calls_2018.csv__ to a dataframe called __police_calls__.\n"
   ]
  },
  {
   "cell_type": "code",
   "execution_count": 2,
   "id": "86ff6e74",
   "metadata": {},
   "outputs": [],
   "source": [
    "police_calls = pd.read_csv('../data/police_calls_2018.csv')"
   ]
  },
  {
   "cell_type": "markdown",
   "id": "01fb7873",
   "metadata": {},
   "source": [
    "# 2a. Look at the first 5 rows.\n",
    "> Use __.head()__ to show first rows."
   ]
  },
  {
   "cell_type": "code",
   "execution_count": 3,
   "id": "e14b6e35",
   "metadata": {},
   "outputs": [
    {
     "data": {
      "text/html": [
       "<div>\n",
       "<style scoped>\n",
       "    .dataframe tbody tr th:only-of-type {\n",
       "        vertical-align: middle;\n",
       "    }\n",
       "\n",
       "    .dataframe tbody tr th {\n",
       "        vertical-align: top;\n",
       "    }\n",
       "\n",
       "    .dataframe thead th {\n",
       "        text-align: right;\n",
       "    }\n",
       "</style>\n",
       "<table border=\"1\" class=\"dataframe\">\n",
       "  <thead>\n",
       "    <tr style=\"text-align: right;\">\n",
       "      <th></th>\n",
       "      <th>Event Number</th>\n",
       "      <th>Call Received</th>\n",
       "      <th>Complaint Number</th>\n",
       "      <th>Shift</th>\n",
       "      <th>Tencode</th>\n",
       "      <th>Tencode Description</th>\n",
       "      <th>Disposition Code</th>\n",
       "      <th>Disposition Description</th>\n",
       "      <th>Block</th>\n",
       "      <th>Street Name</th>\n",
       "      <th>Unit Dispatched</th>\n",
       "      <th>Sector</th>\n",
       "      <th>Zone</th>\n",
       "      <th>Latitude</th>\n",
       "      <th>Longitude</th>\n",
       "      <th>geometry</th>\n",
       "      <th>zipcode</th>\n",
       "      <th>PO</th>\n",
       "    </tr>\n",
       "  </thead>\n",
       "  <tbody>\n",
       "    <tr>\n",
       "      <th>0</th>\n",
       "      <td>PD201800174484</td>\n",
       "      <td>02/16/2018 07:09:00 PM</td>\n",
       "      <td>20180155542</td>\n",
       "      <td>B</td>\n",
       "      <td>93</td>\n",
       "      <td>Traffic Violation</td>\n",
       "      <td>3</td>\n",
       "      <td>CITATION - TRAFFIC</td>\n",
       "      <td>600.0</td>\n",
       "      <td>ALBANY DR</td>\n",
       "      <td>521B</td>\n",
       "      <td>H</td>\n",
       "      <td>23</td>\n",
       "      <td>36.210</td>\n",
       "      <td>-86.600</td>\n",
       "      <td>POINT (-86.59999999999999 36.21)</td>\n",
       "      <td>37076</td>\n",
       "      <td>HERMITAGE</td>\n",
       "    </tr>\n",
       "    <tr>\n",
       "      <th>1</th>\n",
       "      <td>PD201800174650</td>\n",
       "      <td>02/16/2018 08:02:00 PM</td>\n",
       "      <td>20180155684</td>\n",
       "      <td>B</td>\n",
       "      <td>93</td>\n",
       "      <td>Traffic Violation</td>\n",
       "      <td>9</td>\n",
       "      <td>SUBJECT WARNED</td>\n",
       "      <td>5800.0</td>\n",
       "      <td>OLD HICKORY BLVD</td>\n",
       "      <td>5F34</td>\n",
       "      <td>H</td>\n",
       "      <td>21</td>\n",
       "      <td>36.169</td>\n",
       "      <td>-86.601</td>\n",
       "      <td>POINT (-86.601 36.169)</td>\n",
       "      <td>37076</td>\n",
       "      <td>HERMITAGE</td>\n",
       "    </tr>\n",
       "    <tr>\n",
       "      <th>2</th>\n",
       "      <td>PD201800175038</td>\n",
       "      <td>02/16/2018 10:16:00 PM</td>\n",
       "      <td>20180156001</td>\n",
       "      <td>B</td>\n",
       "      <td>3</td>\n",
       "      <td>Administrative/Special Assignment</td>\n",
       "      <td>6</td>\n",
       "      <td>ASSISTED OTHER UNIT</td>\n",
       "      <td>3700.0</td>\n",
       "      <td>JAMES KAY LN</td>\n",
       "      <td>521B</td>\n",
       "      <td>H</td>\n",
       "      <td>21</td>\n",
       "      <td>36.178</td>\n",
       "      <td>-86.616</td>\n",
       "      <td>POINT (-86.616 36.178)</td>\n",
       "      <td>37076</td>\n",
       "      <td>HERMITAGE</td>\n",
       "    </tr>\n",
       "    <tr>\n",
       "      <th>3</th>\n",
       "      <td>PD201800174217</td>\n",
       "      <td>02/16/2018 05:58:00 PM</td>\n",
       "      <td>20180155321</td>\n",
       "      <td>B</td>\n",
       "      <td>87</td>\n",
       "      <td>Safety Hazard</td>\n",
       "      <td>3</td>\n",
       "      <td>CITATION - TRAFFIC</td>\n",
       "      <td>0.0</td>\n",
       "      <td>MM 221 4 I40 E</td>\n",
       "      <td>5122</td>\n",
       "      <td>H</td>\n",
       "      <td>23</td>\n",
       "      <td>36.170</td>\n",
       "      <td>-86.591</td>\n",
       "      <td>POINT (-86.59100000000001 36.17)</td>\n",
       "      <td>37076</td>\n",
       "      <td>HERMITAGE</td>\n",
       "    </tr>\n",
       "    <tr>\n",
       "      <th>4</th>\n",
       "      <td>PD201800173907</td>\n",
       "      <td>02/16/2018 04:19:00 PM</td>\n",
       "      <td>20180155047</td>\n",
       "      <td>B</td>\n",
       "      <td>93</td>\n",
       "      <td>Traffic Violation</td>\n",
       "      <td>9</td>\n",
       "      <td>SUBJECT WARNED</td>\n",
       "      <td>1300.0</td>\n",
       "      <td>TULIP GROVE RD</td>\n",
       "      <td>521B</td>\n",
       "      <td>H</td>\n",
       "      <td>23</td>\n",
       "      <td>36.175</td>\n",
       "      <td>-86.596</td>\n",
       "      <td>POINT (-86.596 36.175)</td>\n",
       "      <td>37076</td>\n",
       "      <td>HERMITAGE</td>\n",
       "    </tr>\n",
       "  </tbody>\n",
       "</table>\n",
       "</div>"
      ],
      "text/plain": [
       "     Event Number           Call Received  Complaint Number Shift  Tencode  \\\n",
       "0  PD201800174484  02/16/2018 07:09:00 PM       20180155542     B       93   \n",
       "1  PD201800174650  02/16/2018 08:02:00 PM       20180155684     B       93   \n",
       "2  PD201800175038  02/16/2018 10:16:00 PM       20180156001     B        3   \n",
       "3  PD201800174217  02/16/2018 05:58:00 PM       20180155321     B       87   \n",
       "4  PD201800173907  02/16/2018 04:19:00 PM       20180155047     B       93   \n",
       "\n",
       "                 Tencode Description  Disposition Code  \\\n",
       "0                  Traffic Violation                 3   \n",
       "1                  Traffic Violation                 9   \n",
       "2  Administrative/Special Assignment                 6   \n",
       "3                      Safety Hazard                 3   \n",
       "4                  Traffic Violation                 9   \n",
       "\n",
       "  Disposition Description   Block        Street Name Unit Dispatched Sector  \\\n",
       "0      CITATION - TRAFFIC   600.0         ALBANY DR             521B      H   \n",
       "1          SUBJECT WARNED  5800.0  OLD HICKORY BLVD             5F34      H   \n",
       "2     ASSISTED OTHER UNIT  3700.0      JAMES KAY LN             521B      H   \n",
       "3      CITATION - TRAFFIC     0.0     MM 221 4 I40 E            5122      H   \n",
       "4          SUBJECT WARNED  1300.0    TULIP GROVE RD             521B      H   \n",
       "\n",
       "  Zone  Latitude  Longitude                          geometry  zipcode  \\\n",
       "0   23    36.210    -86.600  POINT (-86.59999999999999 36.21)    37076   \n",
       "1   21    36.169    -86.601            POINT (-86.601 36.169)    37076   \n",
       "2   21    36.178    -86.616            POINT (-86.616 36.178)    37076   \n",
       "3   23    36.170    -86.591  POINT (-86.59100000000001 36.17)    37076   \n",
       "4   23    36.175    -86.596            POINT (-86.596 36.175)    37076   \n",
       "\n",
       "          PO  \n",
       "0  HERMITAGE  \n",
       "1  HERMITAGE  \n",
       "2  HERMITAGE  \n",
       "3  HERMITAGE  \n",
       "4  HERMITAGE  "
      ]
     },
     "execution_count": 3,
     "metadata": {},
     "output_type": "execute_result"
    }
   ],
   "source": [
    "police_calls.head(5)"
   ]
  },
  {
   "cell_type": "markdown",
   "id": "3b5066ee",
   "metadata": {},
   "source": [
    "# 2b. Look at the last 3 rows.\n",
    "\n",
    "> Use __.tail()__ to display the last rows."
   ]
  },
  {
   "cell_type": "code",
   "execution_count": 4,
   "id": "6724472f",
   "metadata": {},
   "outputs": [
    {
     "data": {
      "text/html": [
       "<div>\n",
       "<style scoped>\n",
       "    .dataframe tbody tr th:only-of-type {\n",
       "        vertical-align: middle;\n",
       "    }\n",
       "\n",
       "    .dataframe tbody tr th {\n",
       "        vertical-align: top;\n",
       "    }\n",
       "\n",
       "    .dataframe thead th {\n",
       "        text-align: right;\n",
       "    }\n",
       "</style>\n",
       "<table border=\"1\" class=\"dataframe\">\n",
       "  <thead>\n",
       "    <tr style=\"text-align: right;\">\n",
       "      <th></th>\n",
       "      <th>Event Number</th>\n",
       "      <th>Call Received</th>\n",
       "      <th>Complaint Number</th>\n",
       "      <th>Shift</th>\n",
       "      <th>Tencode</th>\n",
       "      <th>Tencode Description</th>\n",
       "      <th>Disposition Code</th>\n",
       "      <th>Disposition Description</th>\n",
       "      <th>Block</th>\n",
       "      <th>Street Name</th>\n",
       "      <th>Unit Dispatched</th>\n",
       "      <th>Sector</th>\n",
       "      <th>Zone</th>\n",
       "      <th>Latitude</th>\n",
       "      <th>Longitude</th>\n",
       "      <th>geometry</th>\n",
       "      <th>zipcode</th>\n",
       "      <th>PO</th>\n",
       "    </tr>\n",
       "  </thead>\n",
       "  <tbody>\n",
       "    <tr>\n",
       "      <th>718018</th>\n",
       "      <td>PD201800855208</td>\n",
       "      <td>08/29/2018 09:11:36 AM</td>\n",
       "      <td>20180740194</td>\n",
       "      <td>A</td>\n",
       "      <td>45</td>\n",
       "      <td>Vehicle Accident - Property Damage</td>\n",
       "      <td>1</td>\n",
       "      <td>M.P.D. REPORT COMPLED</td>\n",
       "      <td>6900.0</td>\n",
       "      <td>NOLENSVILLE PKE</td>\n",
       "      <td>3T73</td>\n",
       "      <td>S</td>\n",
       "      <td>31</td>\n",
       "      <td>35.994</td>\n",
       "      <td>-86.685</td>\n",
       "      <td>POINT (-86.685 35.994)</td>\n",
       "      <td>37027</td>\n",
       "      <td>BRENTWOOD</td>\n",
       "    </tr>\n",
       "    <tr>\n",
       "      <th>718019</th>\n",
       "      <td>PD201800783912</td>\n",
       "      <td>08/08/2018 10:15:20 AM</td>\n",
       "      <td>0</td>\n",
       "      <td>A</td>\n",
       "      <td>43</td>\n",
       "      <td>Want Officer for Investigation / Assistance</td>\n",
       "      <td>11</td>\n",
       "      <td>DISREGARD / SIGNAL 9</td>\n",
       "      <td>0.0</td>\n",
       "      <td>HIGHWAY 70&amp;CHEATHAM CO LINE</td>\n",
       "      <td>NaN</td>\n",
       "      <td>W</td>\n",
       "      <td>25</td>\n",
       "      <td>36.094</td>\n",
       "      <td>-87.038</td>\n",
       "      <td>POINT (-87.038 36.094)</td>\n",
       "      <td>37143</td>\n",
       "      <td>PEGRAM</td>\n",
       "    </tr>\n",
       "    <tr>\n",
       "      <th>718020</th>\n",
       "      <td>PD201800800491</td>\n",
       "      <td>08/13/2018 11:51:29 AM</td>\n",
       "      <td>20180693242</td>\n",
       "      <td>A</td>\n",
       "      <td>96</td>\n",
       "      <td>Business Check</td>\n",
       "      <td>4</td>\n",
       "      <td>ASSISTED CITIZEN</td>\n",
       "      <td>0.0</td>\n",
       "      <td>HIGHWAY 70&amp;CHEATHAM CO LINE</td>\n",
       "      <td>5252</td>\n",
       "      <td>W</td>\n",
       "      <td>23</td>\n",
       "      <td>36.094</td>\n",
       "      <td>-87.038</td>\n",
       "      <td>POINT (-87.038 36.094)</td>\n",
       "      <td>37143</td>\n",
       "      <td>PEGRAM</td>\n",
       "    </tr>\n",
       "  </tbody>\n",
       "</table>\n",
       "</div>"
      ],
      "text/plain": [
       "          Event Number           Call Received  Complaint Number Shift  \\\n",
       "718018  PD201800855208  08/29/2018 09:11:36 AM       20180740194     A   \n",
       "718019  PD201800783912  08/08/2018 10:15:20 AM                 0     A   \n",
       "718020  PD201800800491  08/13/2018 11:51:29 AM       20180693242     A   \n",
       "\n",
       "        Tencode                          Tencode Description  \\\n",
       "718018       45           Vehicle Accident - Property Damage   \n",
       "718019       43  Want Officer for Investigation / Assistance   \n",
       "718020       96                               Business Check   \n",
       "\n",
       "        Disposition Code Disposition Description   Block  \\\n",
       "718018                 1   M.P.D. REPORT COMPLED  6900.0   \n",
       "718019                11    DISREGARD / SIGNAL 9     0.0   \n",
       "718020                 4        ASSISTED CITIZEN     0.0   \n",
       "\n",
       "                        Street Name Unit Dispatched Sector Zone  Latitude  \\\n",
       "718018             NOLENSVILLE PKE             3T73      S   31    35.994   \n",
       "718019  HIGHWAY 70&CHEATHAM CO LINE             NaN      W   25    36.094   \n",
       "718020  HIGHWAY 70&CHEATHAM CO LINE            5252      W   23    36.094   \n",
       "\n",
       "        Longitude                geometry  zipcode         PO  \n",
       "718018    -86.685  POINT (-86.685 35.994)    37027  BRENTWOOD  \n",
       "718019    -87.038  POINT (-87.038 36.094)    37143     PEGRAM  \n",
       "718020    -87.038  POINT (-87.038 36.094)    37143     PEGRAM  "
      ]
     },
     "execution_count": 4,
     "metadata": {},
     "output_type": "execute_result"
    }
   ],
   "source": [
    "police_calls.tail(3)"
   ]
  },
  {
   "cell_type": "markdown",
   "id": "0cf74462",
   "metadata": {},
   "source": [
    "# 2c. How many rows and columns does *police_calls* contain?\n",
    "> Use __.shape__ to find # of rows and columns."
   ]
  },
  {
   "cell_type": "code",
   "execution_count": 5,
   "id": "b9560acd",
   "metadata": {},
   "outputs": [
    {
     "data": {
      "text/plain": [
       "(718021, 18)"
      ]
     },
     "execution_count": 5,
     "metadata": {},
     "output_type": "execute_result"
    }
   ],
   "source": [
    "police_calls.shape"
   ]
  },
  {
   "cell_type": "markdown",
   "id": "204b3cf7",
   "metadata": {},
   "source": [
    "***\n",
    "# 3. Keep just these columns:\n",
    "<mark>a. 'Call Received'<br>\n",
    "b. 'Shift'<br>\n",
    "c. 'Tencode'<br>\n",
    "d. 'Tencode Description'<br>\n",
    "e. 'Disposition Code'<br>\n",
    "f. 'Disposition Description'<br>\n",
    "g. 'Unit Dispatched'<br>\n",
    "h. 'Sector'<br>\n",
    "i. 'Zone'<br>\n",
    "j. 'Latitude'<br>\n",
    "k. 'Longitude'<br>\n",
    "l. 'zipcode'<br>\n",
    "m. 'PO'<br></mark>"
   ]
  },
  {
   "cell_type": "markdown",
   "id": "6baa20dc",
   "metadata": {},
   "source": [
    "### (optional) List the columns."
   ]
  },
  {
   "cell_type": "code",
   "execution_count": 6,
   "id": "b03b795d",
   "metadata": {},
   "outputs": [
    {
     "data": {
      "text/plain": [
       "Index(['Event Number', 'Call Received', 'Complaint Number', 'Shift', 'Tencode',\n",
       "       'Tencode Description', 'Disposition Code', 'Disposition Description',\n",
       "       'Block', 'Street Name', 'Unit Dispatched', 'Sector', 'Zone', 'Latitude',\n",
       "       'Longitude', 'geometry', 'zipcode', 'PO'],\n",
       "      dtype='object')"
      ]
     },
     "execution_count": 6,
     "metadata": {},
     "output_type": "execute_result"
    }
   ],
   "source": [
    "police_calls.columns"
   ]
  },
  {
   "cell_type": "markdown",
   "id": "21607ddc",
   "metadata": {},
   "source": [
    "### Slice the columns.\n",
    "> Passing a list of columns to slice from the DataFrame (double brackets) returns a DataFrame with just those columns.<br>\n",
    "> Use the __.head()__ to check."
   ]
  },
  {
   "cell_type": "code",
   "execution_count": 7,
   "id": "dfc1323f",
   "metadata": {},
   "outputs": [
    {
     "data": {
      "text/html": [
       "<div>\n",
       "<style scoped>\n",
       "    .dataframe tbody tr th:only-of-type {\n",
       "        vertical-align: middle;\n",
       "    }\n",
       "\n",
       "    .dataframe tbody tr th {\n",
       "        vertical-align: top;\n",
       "    }\n",
       "\n",
       "    .dataframe thead th {\n",
       "        text-align: right;\n",
       "    }\n",
       "</style>\n",
       "<table border=\"1\" class=\"dataframe\">\n",
       "  <thead>\n",
       "    <tr style=\"text-align: right;\">\n",
       "      <th></th>\n",
       "      <th>Call Received</th>\n",
       "      <th>Shift</th>\n",
       "      <th>Tencode</th>\n",
       "      <th>Tencode Description</th>\n",
       "      <th>Disposition Code</th>\n",
       "      <th>Disposition Description</th>\n",
       "      <th>Unit Dispatched</th>\n",
       "      <th>Sector</th>\n",
       "      <th>Zone</th>\n",
       "      <th>Latitude</th>\n",
       "      <th>Longitude</th>\n",
       "      <th>zipcode</th>\n",
       "      <th>PO</th>\n",
       "    </tr>\n",
       "  </thead>\n",
       "  <tbody>\n",
       "    <tr>\n",
       "      <th>0</th>\n",
       "      <td>02/16/2018 07:09:00 PM</td>\n",
       "      <td>B</td>\n",
       "      <td>93</td>\n",
       "      <td>Traffic Violation</td>\n",
       "      <td>3</td>\n",
       "      <td>CITATION - TRAFFIC</td>\n",
       "      <td>521B</td>\n",
       "      <td>H</td>\n",
       "      <td>23</td>\n",
       "      <td>36.210</td>\n",
       "      <td>-86.600</td>\n",
       "      <td>37076</td>\n",
       "      <td>HERMITAGE</td>\n",
       "    </tr>\n",
       "    <tr>\n",
       "      <th>1</th>\n",
       "      <td>02/16/2018 08:02:00 PM</td>\n",
       "      <td>B</td>\n",
       "      <td>93</td>\n",
       "      <td>Traffic Violation</td>\n",
       "      <td>9</td>\n",
       "      <td>SUBJECT WARNED</td>\n",
       "      <td>5F34</td>\n",
       "      <td>H</td>\n",
       "      <td>21</td>\n",
       "      <td>36.169</td>\n",
       "      <td>-86.601</td>\n",
       "      <td>37076</td>\n",
       "      <td>HERMITAGE</td>\n",
       "    </tr>\n",
       "  </tbody>\n",
       "</table>\n",
       "</div>"
      ],
      "text/plain": [
       "            Call Received Shift  Tencode Tencode Description  \\\n",
       "0  02/16/2018 07:09:00 PM     B       93   Traffic Violation   \n",
       "1  02/16/2018 08:02:00 PM     B       93   Traffic Violation   \n",
       "\n",
       "   Disposition Code Disposition Description Unit Dispatched Sector Zone  \\\n",
       "0                 3      CITATION - TRAFFIC            521B      H   23   \n",
       "1                 9          SUBJECT WARNED            5F34      H   21   \n",
       "\n",
       "   Latitude  Longitude  zipcode         PO  \n",
       "0    36.210    -86.600    37076  HERMITAGE  \n",
       "1    36.169    -86.601    37076  HERMITAGE  "
      ]
     },
     "execution_count": 7,
     "metadata": {},
     "output_type": "execute_result"
    }
   ],
   "source": [
    "police_calls = police_calls[['Call Received',\n",
    "                             'Shift',\n",
    "                             'Tencode',\n",
    "                             'Tencode Description',\n",
    "                             'Disposition Code',\n",
    "                             'Disposition Description',\n",
    "                             'Unit Dispatched',\n",
    "                             'Sector',\n",
    "                             'Zone',\n",
    "                             'Latitude',\n",
    "                             'Longitude',\n",
    "                             'zipcode',\n",
    "                             'PO']]\n",
    "police_calls.head(2)"
   ]
  },
  {
   "cell_type": "markdown",
   "id": "a6bd0f1f",
   "metadata": {},
   "source": [
    "***\n",
    "# 4. Rename the columns.\n",
    "> Then use the __.head()__ to check."
   ]
  },
  {
   "cell_type": "code",
   "execution_count": 8,
   "id": "c4f536af",
   "metadata": {},
   "outputs": [
    {
     "data": {
      "text/html": [
       "<div>\n",
       "<style scoped>\n",
       "    .dataframe tbody tr th:only-of-type {\n",
       "        vertical-align: middle;\n",
       "    }\n",
       "\n",
       "    .dataframe tbody tr th {\n",
       "        vertical-align: top;\n",
       "    }\n",
       "\n",
       "    .dataframe thead th {\n",
       "        text-align: right;\n",
       "    }\n",
       "</style>\n",
       "<table border=\"1\" class=\"dataframe\">\n",
       "  <thead>\n",
       "    <tr style=\"text-align: right;\">\n",
       "      <th></th>\n",
       "      <th>call_time</th>\n",
       "      <th>shift</th>\n",
       "      <th>tencode</th>\n",
       "      <th>tencode_desc</th>\n",
       "      <th>disposition</th>\n",
       "      <th>disposition_desc</th>\n",
       "      <th>unit_dispatched</th>\n",
       "      <th>sector</th>\n",
       "      <th>zone</th>\n",
       "      <th>lat</th>\n",
       "      <th>lng</th>\n",
       "      <th>zipcode</th>\n",
       "      <th>po</th>\n",
       "    </tr>\n",
       "  </thead>\n",
       "  <tbody>\n",
       "    <tr>\n",
       "      <th>0</th>\n",
       "      <td>02/16/2018 07:09:00 PM</td>\n",
       "      <td>B</td>\n",
       "      <td>93</td>\n",
       "      <td>Traffic Violation</td>\n",
       "      <td>3</td>\n",
       "      <td>CITATION - TRAFFIC</td>\n",
       "      <td>521B</td>\n",
       "      <td>H</td>\n",
       "      <td>23</td>\n",
       "      <td>36.210</td>\n",
       "      <td>-86.600</td>\n",
       "      <td>37076</td>\n",
       "      <td>HERMITAGE</td>\n",
       "    </tr>\n",
       "    <tr>\n",
       "      <th>1</th>\n",
       "      <td>02/16/2018 08:02:00 PM</td>\n",
       "      <td>B</td>\n",
       "      <td>93</td>\n",
       "      <td>Traffic Violation</td>\n",
       "      <td>9</td>\n",
       "      <td>SUBJECT WARNED</td>\n",
       "      <td>5F34</td>\n",
       "      <td>H</td>\n",
       "      <td>21</td>\n",
       "      <td>36.169</td>\n",
       "      <td>-86.601</td>\n",
       "      <td>37076</td>\n",
       "      <td>HERMITAGE</td>\n",
       "    </tr>\n",
       "  </tbody>\n",
       "</table>\n",
       "</div>"
      ],
      "text/plain": [
       "                call_time shift  tencode       tencode_desc  disposition  \\\n",
       "0  02/16/2018 07:09:00 PM     B       93  Traffic Violation            3   \n",
       "1  02/16/2018 08:02:00 PM     B       93  Traffic Violation            9   \n",
       "\n",
       "     disposition_desc unit_dispatched sector zone     lat     lng  zipcode  \\\n",
       "0  CITATION - TRAFFIC            521B      H   23  36.210 -86.600    37076   \n",
       "1      SUBJECT WARNED            5F34      H   21  36.169 -86.601    37076   \n",
       "\n",
       "          po  \n",
       "0  HERMITAGE  \n",
       "1  HERMITAGE  "
      ]
     },
     "execution_count": 8,
     "metadata": {},
     "output_type": "execute_result"
    }
   ],
   "source": [
    "police_calls = police_calls.rename(columns = {\n",
    "    'Call Received' : 'call_time',\n",
    "    'Shift' : 'shift',\n",
    "    'Tencode' : 'tencode',\n",
    "    'Tencode Description' : 'tencode_desc',\n",
    "    'Disposition Code' : 'disposition',\n",
    "    'Disposition Description' : 'disposition_desc',\n",
    "    'Unit Dispatched' : 'unit_dispatched',\n",
    "    'Sector' : 'sector',\n",
    "    'Zone' : 'zone',\n",
    "    'Latitude' : 'lat',\n",
    "    'Longitude' : 'lng',\n",
    "    'zipcode' : 'zipcode',\n",
    "    'PO': 'po'\n",
    "})\n",
    "police_calls.head(2)"
   ]
  },
  {
   "cell_type": "markdown",
   "id": "1e1564d9",
   "metadata": {},
   "source": [
    "***\n",
    "# 5. What are the unique disposition descriptions?\n",
    "> Use __.unique()__ to list all the unique values."
   ]
  },
  {
   "cell_type": "code",
   "execution_count": 9,
   "id": "15637cbe",
   "metadata": {},
   "outputs": [
    {
     "data": {
      "text/plain": [
       "array(['CITATION - TRAFFIC', 'SUBJECT WARNED', 'ASSISTED OTHER UNIT',\n",
       "       'GONE ON ARRIVAL', 'ASSISTED CITIZEN', 'COMMUNITY POLICING',\n",
       "       'LOCATION/BUILDING SECURE', 'DISREGARD / SIGNAL 9',\n",
       "       'M.P.D. REPORT COMPLED', 'ADVISED IN CIVIL CASE', 'FALSE CALL',\n",
       "       'NO RESPONSE', 'ARREST, CUSTODIAL OR CITATION',\n",
       "       'ASSISTANCE REFUSED', 'ADVISORY / NOTICE FORM GIVEN', nan],\n",
       "      dtype=object)"
      ]
     },
     "execution_count": 9,
     "metadata": {},
     "output_type": "execute_result"
    }
   ],
   "source": [
    "police_calls['disposition_desc'].unique()"
   ]
  },
  {
   "cell_type": "markdown",
   "id": "7af29e7e",
   "metadata": {},
   "source": [
    "***\n",
    "# 6. Remove all rows from *police_calls* where the disposition description is:\n",
    "- missing (nan)\n",
    "- or DISREGARD / SIGNAL 9\n",
    "- or NO RESPONSE. <br>\n",
    "Check to see that you have 624841 rows remaining."
   ]
  },
  {
   "cell_type": "markdown",
   "id": "2643bef1",
   "metadata": {},
   "source": [
    "> Using __.loc[ ]__, remove the nan (null) values -- <br>\n",
    "> Detect missing values with __isna()__. (https://pandas.pydata.org/docs/reference/api/pandas.DataFrame.html)"
   ]
  },
  {
   "cell_type": "code",
   "execution_count": 10,
   "id": "c3b89248",
   "metadata": {},
   "outputs": [],
   "source": [
    "police_calls = police_calls.loc[~police_calls.disposition_desc.isna()]"
   ]
  },
  {
   "cell_type": "markdown",
   "id": "839b90e9",
   "metadata": {},
   "source": [
    "> Use __.unique()__ to confirm the null values were removed."
   ]
  },
  {
   "cell_type": "code",
   "execution_count": 11,
   "id": "2738f531",
   "metadata": {},
   "outputs": [
    {
     "data": {
      "text/plain": [
       "array(['CITATION - TRAFFIC', 'SUBJECT WARNED', 'ASSISTED OTHER UNIT',\n",
       "       'GONE ON ARRIVAL', 'ASSISTED CITIZEN', 'COMMUNITY POLICING',\n",
       "       'LOCATION/BUILDING SECURE', 'DISREGARD / SIGNAL 9',\n",
       "       'M.P.D. REPORT COMPLED', 'ADVISED IN CIVIL CASE', 'FALSE CALL',\n",
       "       'NO RESPONSE', 'ARREST, CUSTODIAL OR CITATION',\n",
       "       'ASSISTANCE REFUSED', 'ADVISORY / NOTICE FORM GIVEN'], dtype=object)"
      ]
     },
     "execution_count": 11,
     "metadata": {},
     "output_type": "execute_result"
    }
   ],
   "source": [
    "police_calls['disposition_desc'].unique()"
   ]
  },
  {
   "cell_type": "markdown",
   "id": "77c78ac5",
   "metadata": {},
   "source": [
    "> Alternatively, use __.isna()__ to confirm there are no null values left."
   ]
  },
  {
   "cell_type": "code",
   "execution_count": 12,
   "id": "c50f3407",
   "metadata": {},
   "outputs": [
    {
     "data": {
      "text/plain": [
       "0         False\n",
       "1         False\n",
       "2         False\n",
       "3         False\n",
       "4         False\n",
       "          ...  \n",
       "718016    False\n",
       "718017    False\n",
       "718018    False\n",
       "718019    False\n",
       "718020    False\n",
       "Name: disposition_desc, Length: 717888, dtype: bool"
      ]
     },
     "execution_count": 12,
     "metadata": {},
     "output_type": "execute_result"
    }
   ],
   "source": [
    "police_calls.disposition_desc.isna()"
   ]
  },
  {
   "cell_type": "markdown",
   "id": "64f406d9",
   "metadata": {},
   "source": [
    "> Or we could even use __.info()__ to check for null values."
   ]
  },
  {
   "cell_type": "code",
   "execution_count": 13,
   "id": "7f8c730e",
   "metadata": {},
   "outputs": [
    {
     "name": "stdout",
     "output_type": "stream",
     "text": [
      "<class 'pandas.core.series.Series'>\n",
      "Int64Index: 717888 entries, 0 to 718020\n",
      "Series name: disposition_desc\n",
      "Non-Null Count   Dtype \n",
      "--------------   ----- \n",
      "717888 non-null  object\n",
      "dtypes: object(1)\n",
      "memory usage: 11.0+ MB\n"
     ]
    }
   ],
   "source": [
    "police_calls.disposition_desc.info()"
   ]
  },
  {
   "cell_type": "markdown",
   "id": "6f2436a4",
   "metadata": {},
   "source": [
    "> Next, using __.loc[ ]__ to remove the 'DISREGARD / SIGNAL 9' and 'NO RESPONSE' values."
   ]
  },
  {
   "cell_type": "code",
   "execution_count": 14,
   "id": "35c41293",
   "metadata": {},
   "outputs": [],
   "source": [
    "police_calls = police_calls.loc[~police_calls.disposition_desc.isin(['DISREGARD / SIGNAL 9','NO RESPONSE'])]"
   ]
  },
  {
   "cell_type": "markdown",
   "id": "f8b4116e",
   "metadata": {},
   "source": [
    "> Use __.unique()__ to confirm those values were removed."
   ]
  },
  {
   "cell_type": "code",
   "execution_count": 15,
   "id": "7a822957",
   "metadata": {},
   "outputs": [
    {
     "data": {
      "text/plain": [
       "array(['CITATION - TRAFFIC', 'SUBJECT WARNED', 'ASSISTED OTHER UNIT',\n",
       "       'GONE ON ARRIVAL', 'ASSISTED CITIZEN', 'COMMUNITY POLICING',\n",
       "       'LOCATION/BUILDING SECURE', 'M.P.D. REPORT COMPLED',\n",
       "       'ADVISED IN CIVIL CASE', 'FALSE CALL',\n",
       "       'ARREST, CUSTODIAL OR CITATION', 'ASSISTANCE REFUSED',\n",
       "       'ADVISORY / NOTICE FORM GIVEN'], dtype=object)"
      ]
     },
     "execution_count": 15,
     "metadata": {},
     "output_type": "execute_result"
    }
   ],
   "source": [
    "police_calls['disposition_desc'].unique()"
   ]
  },
  {
   "cell_type": "markdown",
   "id": "3fa6a858",
   "metadata": {},
   "source": [
    "> Alternatively, use __value_counts()__ to see the values left in list form."
   ]
  },
  {
   "cell_type": "code",
   "execution_count": 16,
   "id": "e012534f",
   "metadata": {},
   "outputs": [
    {
     "data": {
      "text/plain": [
       "SUBJECT WARNED                   125522\n",
       "LOCATION/BUILDING SECURE         120687\n",
       "ASSISTED CITIZEN                 106585\n",
       "COMMUNITY POLICING                80287\n",
       "ASSISTED OTHER UNIT               55071\n",
       "GONE ON ARRIVAL                   45375\n",
       "M.P.D. REPORT COMPLED             41708\n",
       "CITATION - TRAFFIC                30390\n",
       "ARREST, CUSTODIAL OR CITATION      8408\n",
       "FALSE CALL                         6767\n",
       "ASSISTANCE REFUSED                 1960\n",
       "ADVISED IN CIVIL CASE              1377\n",
       "ADVISORY / NOTICE FORM GIVEN        704\n",
       "Name: disposition_desc, dtype: int64"
      ]
     },
     "execution_count": 16,
     "metadata": {},
     "output_type": "execute_result"
    }
   ],
   "source": [
    "police_calls.disposition_desc.value_counts()"
   ]
  },
  {
   "cell_type": "markdown",
   "id": "987de6dd",
   "metadata": {},
   "source": [
    "> Confirm with __.shape__ that there are only 624841 rows remaining."
   ]
  },
  {
   "cell_type": "code",
   "execution_count": 17,
   "id": "ca3eecdb",
   "metadata": {},
   "outputs": [
    {
     "data": {
      "text/plain": [
       "(624841, 13)"
      ]
     },
     "execution_count": 17,
     "metadata": {},
     "output_type": "execute_result"
    }
   ],
   "source": [
    "police_calls.shape"
   ]
  },
  {
   "cell_type": "markdown",
   "id": "e2a57879",
   "metadata": {},
   "source": [
    "***\n",
    "# 7. Create a dataframe from the *tencode_desc* value counts called *tencode_counts*.\n",
    "- It should have two columns called __tencode__ and __tencode_count__."
   ]
  },
  {
   "cell_type": "markdown",
   "id": "ea39ce40",
   "metadata": {},
   "source": [
    "> Get value counts for __tencode__ and __tencode_desc__. This will return the values as a __series__ (not a DataFrame)."
   ]
  },
  {
   "cell_type": "code",
   "execution_count": 25,
   "id": "68fbe506",
   "metadata": {},
   "outputs": [
    {
     "data": {
      "text/plain": [
       "tencode  tencode_desc     \n",
       "96       Business Check       154763\n",
       "93       Traffic Violation    141283\n",
       "dtype: int64"
      ]
     },
     "execution_count": 25,
     "metadata": {},
     "output_type": "execute_result"
    }
   ],
   "source": [
    "tencode_counts = police_calls.value_counts(subset=['tencode','tencode_desc'])\n",
    "tencode_counts.head(2)"
   ]
  },
  {
   "cell_type": "markdown",
   "id": "4964f36d",
   "metadata": {},
   "source": [
    "> Use __reset_index()__ to turn the series into a DataFrame while adding an index column."
   ]
  },
  {
   "cell_type": "code",
   "execution_count": 26,
   "id": "092d7813",
   "metadata": {},
   "outputs": [
    {
     "data": {
      "text/html": [
       "<div>\n",
       "<style scoped>\n",
       "    .dataframe tbody tr th:only-of-type {\n",
       "        vertical-align: middle;\n",
       "    }\n",
       "\n",
       "    .dataframe tbody tr th {\n",
       "        vertical-align: top;\n",
       "    }\n",
       "\n",
       "    .dataframe thead th {\n",
       "        text-align: right;\n",
       "    }\n",
       "</style>\n",
       "<table border=\"1\" class=\"dataframe\">\n",
       "  <thead>\n",
       "    <tr style=\"text-align: right;\">\n",
       "      <th></th>\n",
       "      <th>tencode</th>\n",
       "      <th>tencode_desc</th>\n",
       "      <th>0</th>\n",
       "    </tr>\n",
       "  </thead>\n",
       "  <tbody>\n",
       "    <tr>\n",
       "      <th>0</th>\n",
       "      <td>96</td>\n",
       "      <td>Business Check</td>\n",
       "      <td>154763</td>\n",
       "    </tr>\n",
       "    <tr>\n",
       "      <th>1</th>\n",
       "      <td>93</td>\n",
       "      <td>Traffic Violation</td>\n",
       "      <td>141283</td>\n",
       "    </tr>\n",
       "  </tbody>\n",
       "</table>\n",
       "</div>"
      ],
      "text/plain": [
       "   tencode       tencode_desc       0\n",
       "0       96     Business Check  154763\n",
       "1       93  Traffic Violation  141283"
      ]
     },
     "execution_count": 26,
     "metadata": {},
     "output_type": "execute_result"
    }
   ],
   "source": [
    "tencode_counts = tencode_counts.reset_index()\n",
    "tencode_counts.head(2)"
   ]
  },
  {
   "cell_type": "markdown",
   "id": "b4494d80",
   "metadata": {},
   "source": [
    "> Drop the column __tencode__ that has the 2-digit tencode."
   ]
  },
  {
   "cell_type": "code",
   "execution_count": 27,
   "id": "8dddfdf7",
   "metadata": {},
   "outputs": [
    {
     "data": {
      "text/html": [
       "<div>\n",
       "<style scoped>\n",
       "    .dataframe tbody tr th:only-of-type {\n",
       "        vertical-align: middle;\n",
       "    }\n",
       "\n",
       "    .dataframe tbody tr th {\n",
       "        vertical-align: top;\n",
       "    }\n",
       "\n",
       "    .dataframe thead th {\n",
       "        text-align: right;\n",
       "    }\n",
       "</style>\n",
       "<table border=\"1\" class=\"dataframe\">\n",
       "  <thead>\n",
       "    <tr style=\"text-align: right;\">\n",
       "      <th></th>\n",
       "      <th>tencode_desc</th>\n",
       "      <th>0</th>\n",
       "    </tr>\n",
       "  </thead>\n",
       "  <tbody>\n",
       "    <tr>\n",
       "      <th>0</th>\n",
       "      <td>Business Check</td>\n",
       "      <td>154763</td>\n",
       "    </tr>\n",
       "    <tr>\n",
       "      <th>1</th>\n",
       "      <td>Traffic Violation</td>\n",
       "      <td>141283</td>\n",
       "    </tr>\n",
       "  </tbody>\n",
       "</table>\n",
       "</div>"
      ],
      "text/plain": [
       "        tencode_desc       0\n",
       "0     Business Check  154763\n",
       "1  Traffic Violation  141283"
      ]
     },
     "execution_count": 27,
     "metadata": {},
     "output_type": "execute_result"
    }
   ],
   "source": [
    "tencode_counts = tencode_counts.drop(columns = ['tencode'])\n",
    "tencode_counts.head(2)"
   ]
  },
  {
   "cell_type": "markdown",
   "id": "4b9bcda3",
   "metadata": {},
   "source": [
    "> Rename the columns."
   ]
  },
  {
   "cell_type": "code",
   "execution_count": 28,
   "id": "bff85f53",
   "metadata": {},
   "outputs": [
    {
     "data": {
      "text/html": [
       "<div>\n",
       "<style scoped>\n",
       "    .dataframe tbody tr th:only-of-type {\n",
       "        vertical-align: middle;\n",
       "    }\n",
       "\n",
       "    .dataframe tbody tr th {\n",
       "        vertical-align: top;\n",
       "    }\n",
       "\n",
       "    .dataframe thead th {\n",
       "        text-align: right;\n",
       "    }\n",
       "</style>\n",
       "<table border=\"1\" class=\"dataframe\">\n",
       "  <thead>\n",
       "    <tr style=\"text-align: right;\">\n",
       "      <th></th>\n",
       "      <th>tencode</th>\n",
       "      <th>0</th>\n",
       "    </tr>\n",
       "  </thead>\n",
       "  <tbody>\n",
       "    <tr>\n",
       "      <th>0</th>\n",
       "      <td>Business Check</td>\n",
       "      <td>154763</td>\n",
       "    </tr>\n",
       "    <tr>\n",
       "      <th>1</th>\n",
       "      <td>Traffic Violation</td>\n",
       "      <td>141283</td>\n",
       "    </tr>\n",
       "  </tbody>\n",
       "</table>\n",
       "</div>"
      ],
      "text/plain": [
       "             tencode       0\n",
       "0     Business Check  154763\n",
       "1  Traffic Violation  141283"
      ]
     },
     "execution_count": 28,
     "metadata": {},
     "output_type": "execute_result"
    }
   ],
   "source": [
    "tencode_counts = tencode_counts.rename(columns = {\n",
    "    'tencode_desc' : 'tencode',\n",
    "    '0': 'tencode_count',\n",
    "})\n",
    "tencode_counts.head(2)"
   ]
  },
  {
   "cell_type": "code",
   "execution_count": null,
   "id": "dcf97054",
   "metadata": {},
   "outputs": [],
   "source": []
  }
 ],
 "metadata": {
  "kernelspec": {
   "display_name": "Python 3 (ipykernel)",
   "language": "python",
   "name": "python3"
  },
  "language_info": {
   "codemirror_mode": {
    "name": "ipython",
    "version": 3
   },
   "file_extension": ".py",
   "mimetype": "text/x-python",
   "name": "python",
   "nbconvert_exporter": "python",
   "pygments_lexer": "ipython3",
   "version": "3.9.12"
  }
 },
 "nbformat": 4,
 "nbformat_minor": 5
}
